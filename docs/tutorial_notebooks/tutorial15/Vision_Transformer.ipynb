{
  "cells": [
    {
      "cell_type": "markdown",
      "metadata": {
        "id": "ft2ynGJ9mgo9"
      },
      "source": [
        "# Tutorial 15: Vision Transformers\n",
        "\n",
        "![Status](https://img.shields.io/static/v1.svg?label=Status&message=Finished&color=green)\n",
        "\n",
        "**Filled notebook:**\n",
        "[![View on Github](https://img.shields.io/static/v1.svg?logo=github&label=Repo&message=View%20On%20Github&color=lightgrey)](https://github.com/phlippe/uvadlc_notebooks/blob/master/docs/tutorial_notebooks/tutorial15/Vision_Transformer.ipynb)\n",
        "[![Open In Collab](https://colab.research.google.com/assets/colab-badge.svg)](https://colab.research.google.com/github/phlippe/uvadlc_notebooks/blob/master/docs/tutorial_notebooks/tutorial15/Vision_Transformer.ipynb)   \n",
        "**Pre-trained models:**\n",
        "[![View files on Github](https://img.shields.io/static/v1.svg?logo=github&label=Repo&message=View%20On%20Github&color=lightgrey)](https://github.com/phlippe/saved_models/tree/main/tutorial15)\n",
        "[![GoogleDrive](https://img.shields.io/static/v1.svg?logo=google-drive&logoColor=yellow&label=GDrive&message=Download&color=yellow)](https://drive.google.com/drive/folders/1BmisSPs5BXQKpolyHp5X4klSAhpDx479?usp=sharing)   \n",
        "**Recordings:**\n",
        "[![YouTube - Part 1](https://img.shields.io/static/v1.svg?logo=youtube&label=YouTube&message=Part%201&color=red)](https://youtu.be/4UyBxlJChfc)   \n",
        "**JAX+Flax version:**\n",
        "[![View on RTD](https://img.shields.io/static/v1.svg?logo=readthedocs&label=RTD&message=View%20On%20RTD&color=8CA1AF)](https://uvadlc-notebooks.readthedocs.io/en/latest/tutorial_notebooks/JAX/tutorial15/Vision_Transformer.html)   \n",
        "**Author:** Phillip Lippe"
      ]
    },
    {
      "cell_type": "markdown",
      "metadata": {
        "id": "hRoG8W0nmgpA"
      },
      "source": [
        "<div class=\"alert alert-info\">\n",
        "\n",
        "**Note:** Interested in JAX? Check out our [JAX+Flax version](https://uvadlc-notebooks.readthedocs.io/en/latest/tutorial_notebooks/JAX/tutorial15/Vision_Transformer.html) of this tutorial!\n",
        "    \n",
        "</div>"
      ]
    },
    {
      "cell_type": "markdown",
      "metadata": {
        "id": "nNhd6UXJmgpB"
      },
      "source": [
        "In this tutorial, we will take a closer look at a recent new trend: Transformers for Computer Vision. Since [Alexey Dosovitskiy et al.](https://openreview.net/pdf?id=YicbFdNTTy) successfully applied a Transformer on a variety of image recognition benchmarks, there have been an incredible amount of follow-up works showing that CNNs might not be optimal architecture for Computer Vision anymore. But how do Vision Transformers work exactly, and what benefits and drawbacks do they offer in contrast to CNNs? We will answer these questions by implementing a Vision Transformer ourselves and train it on the popular, small dataset CIFAR10. We will compare these results to the convolutional architectures of [Tutorial 5](https://uvadlc-notebooks.readthedocs.io/en/latest/tutorial_notebooks/tutorial5/Inception_ResNet_DenseNet.html).\n",
        "\n",
        "If you are not familiar with Transformers yet, take a look at [Tutorial 6](https://uvadlc-notebooks.readthedocs.io/en/latest/tutorial_notebooks/tutorial6/Transformers_and_MHAttention.html) where we discuss the fundamentals of Multi-Head Attention and Transformers. As in many previous tutorials, we will use [PyTorch Lightning](https://www.pytorchlightning.ai/) again (introduced in [Tutorial 5](https://uvadlc-notebooks.readthedocs.io/en/latest/tutorial_notebooks/tutorial5/Inception_ResNet_DenseNet.html)). Let's start with importing our standard set of libraries."
      ]
    },
    {
      "cell_type": "code",
      "execution_count": 1,
      "metadata": {
        "colab": {
          "base_uri": "https://localhost:8080/",
          "height": 104
        },
        "id": "TtA9b59pmgpC",
        "outputId": "58530636-ef66-4f47-e6bb-6d89bd4194c1"
      },
      "outputs": [
        {
          "output_type": "stream",
          "name": "stderr",
          "text": [
            "<ipython-input-1-4eb4ebd6ea16>:15: DeprecationWarning: `set_matplotlib_formats` is deprecated since IPython 7.23, directly use `matplotlib_inline.backend_inline.set_matplotlib_formats()`\n",
            "  set_matplotlib_formats('svg', 'pdf') # For export\n",
            "INFO:lightning_fabric.utilities.seed:Seed set to 42\n"
          ]
        },
        {
          "output_type": "stream",
          "name": "stdout",
          "text": [
            "Device: cpu\n"
          ]
        },
        {
          "output_type": "display_data",
          "data": {
            "text/plain": [
              "<Figure size 640x480 with 0 Axes>"
            ]
          },
          "metadata": {}
        }
      ],
      "source": [
        "## Standard libraries\n",
        "import os\n",
        "import numpy as np\n",
        "import random\n",
        "import math\n",
        "import json\n",
        "from functools import partial\n",
        "from PIL import Image\n",
        "\n",
        "## Imports for plotting\n",
        "import matplotlib.pyplot as plt\n",
        "plt.set_cmap('cividis')\n",
        "%matplotlib inline\n",
        "from IPython.display import set_matplotlib_formats\n",
        "set_matplotlib_formats('svg', 'pdf') # For export\n",
        "from matplotlib.colors import to_rgb\n",
        "import matplotlib\n",
        "matplotlib.rcParams['lines.linewidth'] = 2.0\n",
        "import seaborn as sns\n",
        "sns.reset_orig()\n",
        "\n",
        "## tqdm for loading bars\n",
        "from tqdm.notebook import tqdm\n",
        "\n",
        "## PyTorch\n",
        "import torch\n",
        "import torch.nn as nn\n",
        "import torch.nn.functional as F\n",
        "import torch.utils.data as data\n",
        "import torch.optim as optim\n",
        "\n",
        "## Torchvision\n",
        "import torchvision\n",
        "from torchvision.datasets import CIFAR10\n",
        "from torchvision import transforms\n",
        "\n",
        "# PyTorch Lightning\n",
        "try:\n",
        "    import pytorch_lightning as pl\n",
        "except ModuleNotFoundError: # Google Colab does not have PyTorch Lightning installed by default. Hence, we do it here if necessary\n",
        "    !pip install --quiet pytorch-lightning>=1.4\n",
        "    import pytorch_lightning as pl\n",
        "from pytorch_lightning.callbacks import LearningRateMonitor, ModelCheckpoint\n",
        "\n",
        "# Import tensorboard\n",
        "%load_ext tensorboard\n",
        "\n",
        "# Path to the folder where the datasets are/should be downloaded (e.g. CIFAR10)\n",
        "DATASET_PATH = \"../data\"\n",
        "# Path to the folder where the pretrained models are saved\n",
        "CHECKPOINT_PATH = \"../saved_models/tutorial15\"\n",
        "\n",
        "# Setting the seed\n",
        "pl.seed_everything(42)\n",
        "\n",
        "# Ensure that all operations are deterministic on GPU (if used) for reproducibility\n",
        "torch.backends.cudnn.deterministic = True\n",
        "torch.backends.cudnn.benchmark = False\n",
        "\n",
        "device = torch.device(\"cuda:0\") if torch.cuda.is_available() else torch.device(\"cpu\")\n",
        "print(\"Device:\", device)"
      ]
    },
    {
      "cell_type": "markdown",
      "metadata": {
        "id": "BbKfYKucmgpE"
      },
      "source": [
        "We provide a pre-trained Vision Transformer which we download in the next cell. However, Vision Transformers can be relatively quickly trained on CIFAR10 with an overall training time of less than an hour on an NVIDIA TitanRTX. Feel free to experiment with training your own Transformer once you went through the whole notebook."
      ]
    },
    {
      "cell_type": "code",
      "execution_count": 2,
      "metadata": {
        "colab": {
          "base_uri": "https://localhost:8080/"
        },
        "id": "-01OEsdFmgpE",
        "outputId": "b070ab2a-9a31-40ef-e52b-2ba788ae884d"
      },
      "outputs": [
        {
          "output_type": "stream",
          "name": "stdout",
          "text": [
            "Downloading https://raw.githubusercontent.com/phlippe/saved_models/main/tutorial15/ViT.ckpt...\n",
            "Downloading https://raw.githubusercontent.com/phlippe/saved_models/main/tutorial15/tensorboards/ViT/events.out.tfevents.ViT...\n",
            "Downloading https://raw.githubusercontent.com/phlippe/saved_models/main/tutorial5/tensorboards/ResNet/events.out.tfevents.resnet...\n"
          ]
        }
      ],
      "source": [
        "import urllib.request\n",
        "from urllib.error import HTTPError\n",
        "# Github URL where saved models are stored for this tutorial\n",
        "base_url = \"https://raw.githubusercontent.com/phlippe/saved_models/main/\"\n",
        "# Files to download\n",
        "pretrained_files = [\"tutorial15/ViT.ckpt\", \"tutorial15/tensorboards/ViT/events.out.tfevents.ViT\",\n",
        "                    \"tutorial5/tensorboards/ResNet/events.out.tfevents.resnet\"]\n",
        "# Create checkpoint path if it doesn't exist yet\n",
        "os.makedirs(CHECKPOINT_PATH, exist_ok=True)\n",
        "\n",
        "# For each file, check whether it already exists. If not, try downloading it.\n",
        "for file_name in pretrained_files:\n",
        "    file_path = os.path.join(CHECKPOINT_PATH, file_name.split(\"/\",1)[1])\n",
        "    if \"/\" in file_name.split(\"/\",1)[1]:\n",
        "        os.makedirs(file_path.rsplit(\"/\",1)[0], exist_ok=True)\n",
        "    if not os.path.isfile(file_path):\n",
        "        file_url = base_url + file_name\n",
        "        print(f\"Downloading {file_url}...\")\n",
        "        try:\n",
        "            urllib.request.urlretrieve(file_url, file_path)\n",
        "        except HTTPError as e:\n",
        "            print(\"Something went wrong. Please try to download the file from the GDrive folder, or contact the author with the full output including the following error:\\n\", e)"
      ]
    },
    {
      "cell_type": "markdown",
      "metadata": {
        "id": "cVv8NaR5mgpF"
      },
      "source": [
        "We load the CIFAR10 dataset below. We use the same setup of the datasets and data augmentations as for the CNNs in Tutorial 5 to keep a fair comparison. The constants in the `transforms.Normalize` correspond to the values that scale and shift the data to a zero mean and standard deviation of one."
      ]
    },
    {
      "cell_type": "code",
      "execution_count": 3,
      "metadata": {
        "colab": {
          "base_uri": "https://localhost:8080/",
          "height": 392
        },
        "id": "lic3zXyQmgpF",
        "outputId": "674438da-79fe-48d0-fa3f-039346ebcb13"
      },
      "outputs": [
        {
          "output_type": "stream",
          "name": "stdout",
          "text": [
            "Downloading https://www.cs.toronto.edu/~kriz/cifar-10-python.tar.gz to ../data/cifar-10-python.tar.gz\n"
          ]
        },
        {
          "output_type": "stream",
          "name": "stderr",
          "text": [
            "100%|██████████| 170498071/170498071 [00:02<00:00, 69487918.84it/s]\n"
          ]
        },
        {
          "output_type": "stream",
          "name": "stdout",
          "text": [
            "Extracting ../data/cifar-10-python.tar.gz to ../data\n",
            "Files already downloaded and verified\n"
          ]
        },
        {
          "output_type": "stream",
          "name": "stderr",
          "text": [
            "INFO:lightning_fabric.utilities.seed:Seed set to 42\n",
            "INFO:lightning_fabric.utilities.seed:Seed set to 42\n"
          ]
        },
        {
          "output_type": "stream",
          "name": "stdout",
          "text": [
            "Files already downloaded and verified\n"
          ]
        },
        {
          "output_type": "stream",
          "name": "stderr",
          "text": [
            "/usr/local/lib/python3.10/dist-packages/torch/utils/data/dataloader.py:557: UserWarning: This DataLoader will create 4 worker processes in total. Our suggested max number of worker in current system is 2, which is smaller than what this DataLoader is going to create. Please be aware that excessive worker creation might get DataLoader running slow or even freeze, lower the worker number to avoid potential slowness/freeze if necessary.\n",
            "  warnings.warn(_create_warning_msg(\n"
          ]
        },
        {
          "output_type": "display_data",
          "data": {
            "text/plain": [
              "<Figure size 800x800 with 1 Axes>"
            ],
            "image/svg+xml": "<?xml version=\"1.0\" encoding=\"utf-8\" standalone=\"no\"?>\n<!DOCTYPE svg PUBLIC \"-//W3C//DTD SVG 1.1//EN\"\n  \"http://www.w3.org/Graphics/SVG/1.1/DTD/svg11.dtd\">\n<svg xmlns:xlink=\"http://www.w3.org/1999/xlink\" width=\"460.8pt\" height=\"145.970299pt\" viewBox=\"0 0 460.8 145.970299\" xmlns=\"http://www.w3.org/2000/svg\" version=\"1.1\">\n <metadata>\n  <rdf:RDF xmlns:dc=\"http://purl.org/dc/elements/1.1/\" xmlns:cc=\"http://creativecommons.org/ns#\" xmlns:rdf=\"http://www.w3.org/1999/02/22-rdf-syntax-ns#\">\n   <cc:Work>\n    <dc:type rdf:resource=\"http://purl.org/dc/dcmitype/StillImage\"/>\n    <dc:date>2023-12-12T04:59:08.415592</dc:date>\n    <dc:format>image/svg+xml</dc:format>\n    <dc:creator>\n     <cc:Agent>\n      <dc:title>Matplotlib v3.7.1, https://matplotlib.org/</dc:title>\n     </cc:Agent>\n    </dc:creator>\n   </cc:Work>\n  </rdf:RDF>\n </metadata>\n <defs>\n  <style type=\"text/css\">*{stroke-linejoin: round; stroke-linecap: butt}</style>\n </defs>\n <g id=\"figure_1\">\n  <g id=\"patch_1\">\n   <path d=\"M 0 145.970299 \nL 460.8 145.970299 \nL 460.8 0 \nL 0 0 \nz\n\" style=\"fill: #ffffff\"/>\n  </g>\n  <g id=\"axes_1\">\n   <g clip-path=\"url(#p6b11c7e94c)\">\n    <image xlink:href=\"data:image/png;base64,\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\" id=\"imaged081f7a12d\" transform=\"scale(1 -1) translate(0 -116.64)\" x=\"7.2\" y=\"-22.130299\" width=\"446.4\" height=\"116.64\"/>\n   </g>\n   <g id=\"text_1\">\n    <!-- Image examples of the CIFAR10 dataset -->\n    <g transform=\"translate(110.034375 16.318125) scale(0.12 -0.12)\">\n     <defs>\n      <path id=\"DejaVuSans-49\" d=\"M 628 4666 \nL 1259 4666 \nL 1259 0 \nL 628 0 \nL 628 4666 \nz\n\" transform=\"scale(0.015625)\"/>\n      <path id=\"DejaVuSans-6d\" d=\"M 3328 2828 \nQ 3544 3216 3844 3400 \nQ 4144 3584 4550 3584 \nQ 5097 3584 5394 3201 \nQ 5691 2819 5691 2113 \nL 5691 0 \nL 5113 0 \nL 5113 2094 \nQ 5113 2597 4934 2840 \nQ 4756 3084 4391 3084 \nQ 3944 3084 3684 2787 \nQ 3425 2491 3425 1978 \nL 3425 0 \nL 2847 0 \nL 2847 2094 \nQ 2847 2600 2669 2842 \nQ 2491 3084 2119 3084 \nQ 1678 3084 1418 2786 \nQ 1159 2488 1159 1978 \nL 1159 0 \nL 581 0 \nL 581 3500 \nL 1159 3500 \nL 1159 2956 \nQ 1356 3278 1631 3431 \nQ 1906 3584 2284 3584 \nQ 2666 3584 2933 3390 \nQ 3200 3197 3328 2828 \nz\n\" transform=\"scale(0.015625)\"/>\n      <path id=\"DejaVuSans-61\" d=\"M 2194 1759 \nQ 1497 1759 1228 1600 \nQ 959 1441 959 1056 \nQ 959 750 1161 570 \nQ 1363 391 1709 391 \nQ 2188 391 2477 730 \nQ 2766 1069 2766 1631 \nL 2766 1759 \nL 2194 1759 \nz\nM 3341 1997 \nL 3341 0 \nL 2766 0 \nL 2766 531 \nQ 2569 213 2275 61 \nQ 1981 -91 1556 -91 \nQ 1019 -91 701 211 \nQ 384 513 384 1019 \nQ 384 1609 779 1909 \nQ 1175 2209 1959 2209 \nL 2766 2209 \nL 2766 2266 \nQ 2766 2663 2505 2880 \nQ 2244 3097 1772 3097 \nQ 1472 3097 1187 3025 \nQ 903 2953 641 2809 \nL 641 3341 \nQ 956 3463 1253 3523 \nQ 1550 3584 1831 3584 \nQ 2591 3584 2966 3190 \nQ 3341 2797 3341 1997 \nz\n\" transform=\"scale(0.015625)\"/>\n      <path id=\"DejaVuSans-67\" d=\"M 2906 1791 \nQ 2906 2416 2648 2759 \nQ 2391 3103 1925 3103 \nQ 1463 3103 1205 2759 \nQ 947 2416 947 1791 \nQ 947 1169 1205 825 \nQ 1463 481 1925 481 \nQ 2391 481 2648 825 \nQ 2906 1169 2906 1791 \nz\nM 3481 434 \nQ 3481 -459 3084 -895 \nQ 2688 -1331 1869 -1331 \nQ 1566 -1331 1297 -1286 \nQ 1028 -1241 775 -1147 \nL 775 -588 \nQ 1028 -725 1275 -790 \nQ 1522 -856 1778 -856 \nQ 2344 -856 2625 -561 \nQ 2906 -266 2906 331 \nL 2906 616 \nQ 2728 306 2450 153 \nQ 2172 0 1784 0 \nQ 1141 0 747 490 \nQ 353 981 353 1791 \nQ 353 2603 747 3093 \nQ 1141 3584 1784 3584 \nQ 2172 3584 2450 3431 \nQ 2728 3278 2906 2969 \nL 2906 3500 \nL 3481 3500 \nL 3481 434 \nz\n\" transform=\"scale(0.015625)\"/>\n      <path id=\"DejaVuSans-65\" d=\"M 3597 1894 \nL 3597 1613 \nL 953 1613 \nQ 991 1019 1311 708 \nQ 1631 397 2203 397 \nQ 2534 397 2845 478 \nQ 3156 559 3463 722 \nL 3463 178 \nQ 3153 47 2828 -22 \nQ 2503 -91 2169 -91 \nQ 1331 -91 842 396 \nQ 353 884 353 1716 \nQ 353 2575 817 3079 \nQ 1281 3584 2069 3584 \nQ 2775 3584 3186 3129 \nQ 3597 2675 3597 1894 \nz\nM 3022 2063 \nQ 3016 2534 2758 2815 \nQ 2500 3097 2075 3097 \nQ 1594 3097 1305 2825 \nQ 1016 2553 972 2059 \nL 3022 2063 \nz\n\" transform=\"scale(0.015625)\"/>\n      <path id=\"DejaVuSans-20\" transform=\"scale(0.015625)\"/>\n      <path id=\"DejaVuSans-78\" d=\"M 3513 3500 \nL 2247 1797 \nL 3578 0 \nL 2900 0 \nL 1881 1375 \nL 863 0 \nL 184 0 \nL 1544 1831 \nL 300 3500 \nL 978 3500 \nL 1906 2253 \nL 2834 3500 \nL 3513 3500 \nz\n\" transform=\"scale(0.015625)\"/>\n      <path id=\"DejaVuSans-70\" d=\"M 1159 525 \nL 1159 -1331 \nL 581 -1331 \nL 581 3500 \nL 1159 3500 \nL 1159 2969 \nQ 1341 3281 1617 3432 \nQ 1894 3584 2278 3584 \nQ 2916 3584 3314 3078 \nQ 3713 2572 3713 1747 \nQ 3713 922 3314 415 \nQ 2916 -91 2278 -91 \nQ 1894 -91 1617 61 \nQ 1341 213 1159 525 \nz\nM 3116 1747 \nQ 3116 2381 2855 2742 \nQ 2594 3103 2138 3103 \nQ 1681 3103 1420 2742 \nQ 1159 2381 1159 1747 \nQ 1159 1113 1420 752 \nQ 1681 391 2138 391 \nQ 2594 391 2855 752 \nQ 3116 1113 3116 1747 \nz\n\" transform=\"scale(0.015625)\"/>\n      <path id=\"DejaVuSans-6c\" d=\"M 603 4863 \nL 1178 4863 \nL 1178 0 \nL 603 0 \nL 603 4863 \nz\n\" transform=\"scale(0.015625)\"/>\n      <path id=\"DejaVuSans-73\" d=\"M 2834 3397 \nL 2834 2853 \nQ 2591 2978 2328 3040 \nQ 2066 3103 1784 3103 \nQ 1356 3103 1142 2972 \nQ 928 2841 928 2578 \nQ 928 2378 1081 2264 \nQ 1234 2150 1697 2047 \nL 1894 2003 \nQ 2506 1872 2764 1633 \nQ 3022 1394 3022 966 \nQ 3022 478 2636 193 \nQ 2250 -91 1575 -91 \nQ 1294 -91 989 -36 \nQ 684 19 347 128 \nL 347 722 \nQ 666 556 975 473 \nQ 1284 391 1588 391 \nQ 1994 391 2212 530 \nQ 2431 669 2431 922 \nQ 2431 1156 2273 1281 \nQ 2116 1406 1581 1522 \nL 1381 1569 \nQ 847 1681 609 1914 \nQ 372 2147 372 2553 \nQ 372 3047 722 3315 \nQ 1072 3584 1716 3584 \nQ 2034 3584 2315 3537 \nQ 2597 3491 2834 3397 \nz\n\" transform=\"scale(0.015625)\"/>\n      <path id=\"DejaVuSans-6f\" d=\"M 1959 3097 \nQ 1497 3097 1228 2736 \nQ 959 2375 959 1747 \nQ 959 1119 1226 758 \nQ 1494 397 1959 397 \nQ 2419 397 2687 759 \nQ 2956 1122 2956 1747 \nQ 2956 2369 2687 2733 \nQ 2419 3097 1959 3097 \nz\nM 1959 3584 \nQ 2709 3584 3137 3096 \nQ 3566 2609 3566 1747 \nQ 3566 888 3137 398 \nQ 2709 -91 1959 -91 \nQ 1206 -91 779 398 \nQ 353 888 353 1747 \nQ 353 2609 779 3096 \nQ 1206 3584 1959 3584 \nz\n\" transform=\"scale(0.015625)\"/>\n      <path id=\"DejaVuSans-66\" d=\"M 2375 4863 \nL 2375 4384 \nL 1825 4384 \nQ 1516 4384 1395 4259 \nQ 1275 4134 1275 3809 \nL 1275 3500 \nL 2222 3500 \nL 2222 3053 \nL 1275 3053 \nL 1275 0 \nL 697 0 \nL 697 3053 \nL 147 3053 \nL 147 3500 \nL 697 3500 \nL 697 3744 \nQ 697 4328 969 4595 \nQ 1241 4863 1831 4863 \nL 2375 4863 \nz\n\" transform=\"scale(0.015625)\"/>\n      <path id=\"DejaVuSans-74\" d=\"M 1172 4494 \nL 1172 3500 \nL 2356 3500 \nL 2356 3053 \nL 1172 3053 \nL 1172 1153 \nQ 1172 725 1289 603 \nQ 1406 481 1766 481 \nL 2356 481 \nL 2356 0 \nL 1766 0 \nQ 1100 0 847 248 \nQ 594 497 594 1153 \nL 594 3053 \nL 172 3053 \nL 172 3500 \nL 594 3500 \nL 594 4494 \nL 1172 4494 \nz\n\" transform=\"scale(0.015625)\"/>\n      <path id=\"DejaVuSans-68\" d=\"M 3513 2113 \nL 3513 0 \nL 2938 0 \nL 2938 2094 \nQ 2938 2591 2744 2837 \nQ 2550 3084 2163 3084 \nQ 1697 3084 1428 2787 \nQ 1159 2491 1159 1978 \nL 1159 0 \nL 581 0 \nL 581 4863 \nL 1159 4863 \nL 1159 2956 \nQ 1366 3272 1645 3428 \nQ 1925 3584 2291 3584 \nQ 2894 3584 3203 3211 \nQ 3513 2838 3513 2113 \nz\n\" transform=\"scale(0.015625)\"/>\n      <path id=\"DejaVuSans-43\" d=\"M 4122 4306 \nL 4122 3641 \nQ 3803 3938 3442 4084 \nQ 3081 4231 2675 4231 \nQ 1875 4231 1450 3742 \nQ 1025 3253 1025 2328 \nQ 1025 1406 1450 917 \nQ 1875 428 2675 428 \nQ 3081 428 3442 575 \nQ 3803 722 4122 1019 \nL 4122 359 \nQ 3791 134 3420 21 \nQ 3050 -91 2638 -91 \nQ 1578 -91 968 557 \nQ 359 1206 359 2328 \nQ 359 3453 968 4101 \nQ 1578 4750 2638 4750 \nQ 3056 4750 3426 4639 \nQ 3797 4528 4122 4306 \nz\n\" transform=\"scale(0.015625)\"/>\n      <path id=\"DejaVuSans-46\" d=\"M 628 4666 \nL 3309 4666 \nL 3309 4134 \nL 1259 4134 \nL 1259 2759 \nL 3109 2759 \nL 3109 2228 \nL 1259 2228 \nL 1259 0 \nL 628 0 \nL 628 4666 \nz\n\" transform=\"scale(0.015625)\"/>\n      <path id=\"DejaVuSans-41\" d=\"M 2188 4044 \nL 1331 1722 \nL 3047 1722 \nL 2188 4044 \nz\nM 1831 4666 \nL 2547 4666 \nL 4325 0 \nL 3669 0 \nL 3244 1197 \nL 1141 1197 \nL 716 0 \nL 50 0 \nL 1831 4666 \nz\n\" transform=\"scale(0.015625)\"/>\n      <path id=\"DejaVuSans-52\" d=\"M 2841 2188 \nQ 3044 2119 3236 1894 \nQ 3428 1669 3622 1275 \nL 4263 0 \nL 3584 0 \nL 2988 1197 \nQ 2756 1666 2539 1819 \nQ 2322 1972 1947 1972 \nL 1259 1972 \nL 1259 0 \nL 628 0 \nL 628 4666 \nL 2053 4666 \nQ 2853 4666 3247 4331 \nQ 3641 3997 3641 3322 \nQ 3641 2881 3436 2590 \nQ 3231 2300 2841 2188 \nz\nM 1259 4147 \nL 1259 2491 \nL 2053 2491 \nQ 2509 2491 2742 2702 \nQ 2975 2913 2975 3322 \nQ 2975 3731 2742 3939 \nQ 2509 4147 2053 4147 \nL 1259 4147 \nz\n\" transform=\"scale(0.015625)\"/>\n      <path id=\"DejaVuSans-31\" d=\"M 794 531 \nL 1825 531 \nL 1825 4091 \nL 703 3866 \nL 703 4441 \nL 1819 4666 \nL 2450 4666 \nL 2450 531 \nL 3481 531 \nL 3481 0 \nL 794 0 \nL 794 531 \nz\n\" transform=\"scale(0.015625)\"/>\n      <path id=\"DejaVuSans-30\" d=\"M 2034 4250 \nQ 1547 4250 1301 3770 \nQ 1056 3291 1056 2328 \nQ 1056 1369 1301 889 \nQ 1547 409 2034 409 \nQ 2525 409 2770 889 \nQ 3016 1369 3016 2328 \nQ 3016 3291 2770 3770 \nQ 2525 4250 2034 4250 \nz\nM 2034 4750 \nQ 2819 4750 3233 4129 \nQ 3647 3509 3647 2328 \nQ 3647 1150 3233 529 \nQ 2819 -91 2034 -91 \nQ 1250 -91 836 529 \nQ 422 1150 422 2328 \nQ 422 3509 836 4129 \nQ 1250 4750 2034 4750 \nz\n\" transform=\"scale(0.015625)\"/>\n      <path id=\"DejaVuSans-64\" d=\"M 2906 2969 \nL 2906 4863 \nL 3481 4863 \nL 3481 0 \nL 2906 0 \nL 2906 525 \nQ 2725 213 2448 61 \nQ 2172 -91 1784 -91 \nQ 1150 -91 751 415 \nQ 353 922 353 1747 \nQ 353 2572 751 3078 \nQ 1150 3584 1784 3584 \nQ 2172 3584 2448 3432 \nQ 2725 3281 2906 2969 \nz\nM 947 1747 \nQ 947 1113 1208 752 \nQ 1469 391 1925 391 \nQ 2381 391 2643 752 \nQ 2906 1113 2906 1747 \nQ 2906 2381 2643 2742 \nQ 2381 3103 1925 3103 \nQ 1469 3103 1208 2742 \nQ 947 2381 947 1747 \nz\n\" transform=\"scale(0.015625)\"/>\n     </defs>\n     <use xlink:href=\"#DejaVuSans-49\"/>\n     <use xlink:href=\"#DejaVuSans-6d\" x=\"29.492188\"/>\n     <use xlink:href=\"#DejaVuSans-61\" x=\"126.904297\"/>\n     <use xlink:href=\"#DejaVuSans-67\" x=\"188.183594\"/>\n     <use xlink:href=\"#DejaVuSans-65\" x=\"251.660156\"/>\n     <use xlink:href=\"#DejaVuSans-20\" x=\"313.183594\"/>\n     <use xlink:href=\"#DejaVuSans-65\" x=\"344.970703\"/>\n     <use xlink:href=\"#DejaVuSans-78\" x=\"404.744141\"/>\n     <use xlink:href=\"#DejaVuSans-61\" x=\"463.923828\"/>\n     <use xlink:href=\"#DejaVuSans-6d\" x=\"525.203125\"/>\n     <use xlink:href=\"#DejaVuSans-70\" x=\"622.615234\"/>\n     <use xlink:href=\"#DejaVuSans-6c\" x=\"686.091797\"/>\n     <use xlink:href=\"#DejaVuSans-65\" x=\"713.875\"/>\n     <use xlink:href=\"#DejaVuSans-73\" x=\"775.398438\"/>\n     <use xlink:href=\"#DejaVuSans-20\" x=\"827.498047\"/>\n     <use xlink:href=\"#DejaVuSans-6f\" x=\"859.285156\"/>\n     <use xlink:href=\"#DejaVuSans-66\" x=\"920.466797\"/>\n     <use xlink:href=\"#DejaVuSans-20\" x=\"955.671875\"/>\n     <use xlink:href=\"#DejaVuSans-74\" x=\"987.458984\"/>\n     <use xlink:href=\"#DejaVuSans-68\" x=\"1026.667969\"/>\n     <use xlink:href=\"#DejaVuSans-65\" x=\"1090.046875\"/>\n     <use xlink:href=\"#DejaVuSans-20\" x=\"1151.570312\"/>\n     <use xlink:href=\"#DejaVuSans-43\" x=\"1183.357422\"/>\n     <use xlink:href=\"#DejaVuSans-49\" x=\"1253.181641\"/>\n     <use xlink:href=\"#DejaVuSans-46\" x=\"1282.673828\"/>\n     <use xlink:href=\"#DejaVuSans-41\" x=\"1331.068359\"/>\n     <use xlink:href=\"#DejaVuSans-52\" x=\"1399.476562\"/>\n     <use xlink:href=\"#DejaVuSans-31\" x=\"1468.958984\"/>\n     <use xlink:href=\"#DejaVuSans-30\" x=\"1532.582031\"/>\n     <use xlink:href=\"#DejaVuSans-20\" x=\"1596.205078\"/>\n     <use xlink:href=\"#DejaVuSans-64\" x=\"1627.992188\"/>\n     <use xlink:href=\"#DejaVuSans-61\" x=\"1691.46875\"/>\n     <use xlink:href=\"#DejaVuSans-74\" x=\"1752.748047\"/>\n     <use xlink:href=\"#DejaVuSans-61\" x=\"1791.957031\"/>\n     <use xlink:href=\"#DejaVuSans-73\" x=\"1853.236328\"/>\n     <use xlink:href=\"#DejaVuSans-65\" x=\"1905.335938\"/>\n     <use xlink:href=\"#DejaVuSans-74\" x=\"1966.859375\"/>\n    </g>\n   </g>\n  </g>\n </g>\n <defs>\n  <clipPath id=\"p6b11c7e94c\">\n   <rect x=\"7.2\" y=\"22.318125\" width=\"446.4\" height=\"116.452174\"/>\n  </clipPath>\n </defs>\n</svg>\n",
            "application/pdf": "[encoded data removed]"
          },
          "metadata": {}
        }
      ],
      "source": [
        "test_transform = transforms.Compose([transforms.ToTensor(),\n",
        "                                     transforms.Normalize([0.49139968, 0.48215841, 0.44653091], [0.24703223, 0.24348513, 0.26158784])\n",
        "                                     ])\n",
        "# For training, we add some augmentation. Networks are too powerful and would overfit.\n",
        "train_transform = transforms.Compose([transforms.RandomHorizontalFlip(),\n",
        "                                      transforms.RandomResizedCrop((32,32),scale=(0.8,1.0),ratio=(0.9,1.1)),\n",
        "                                      transforms.ToTensor(),\n",
        "                                      transforms.Normalize([0.49139968, 0.48215841, 0.44653091], [0.24703223, 0.24348513, 0.26158784])\n",
        "                                     ])\n",
        "# Loading the training dataset. We need to split it into a training and validation part\n",
        "# We need to do a little trick because the validation set should not use the augmentation.\n",
        "train_dataset = CIFAR10(root=DATASET_PATH, train=True, transform=train_transform, download=True)\n",
        "val_dataset = CIFAR10(root=DATASET_PATH, train=True, transform=test_transform, download=True)\n",
        "pl.seed_everything(42)\n",
        "train_set, _ = torch.utils.data.random_split(train_dataset, [45000, 5000])\n",
        "pl.seed_everything(42)\n",
        "_, val_set = torch.utils.data.random_split(val_dataset, [45000, 5000])\n",
        "\n",
        "# Loading the test set\n",
        "test_set = CIFAR10(root=DATASET_PATH, train=False, transform=test_transform, download=True)\n",
        "\n",
        "# We define a set of data loaders that we can use for various purposes later.\n",
        "train_loader = data.DataLoader(train_set, batch_size=128, shuffle=True, drop_last=True, pin_memory=True, num_workers=4)\n",
        "val_loader = data.DataLoader(val_set, batch_size=128, shuffle=False, drop_last=False, num_workers=4)\n",
        "test_loader = data.DataLoader(test_set, batch_size=128, shuffle=False, drop_last=False, num_workers=4)\n",
        "\n",
        "# Visualize some examples\n",
        "NUM_IMAGES = 4\n",
        "CIFAR_images = torch.stack([val_set[idx][0] for idx in range(NUM_IMAGES)], dim=0)\n",
        "img_grid = torchvision.utils.make_grid(CIFAR_images, nrow=4, normalize=True, pad_value=0.9)\n",
        "img_grid = img_grid.permute(1, 2, 0)\n",
        "\n",
        "plt.figure(figsize=(8,8))\n",
        "plt.title(\"Image examples of the CIFAR10 dataset\")\n",
        "plt.imshow(img_grid)\n",
        "plt.axis('off')\n",
        "plt.show()\n",
        "plt.close()"
      ]
    },
    {
      "cell_type": "code",
      "source": [
        "CIFAR_images.shape"
      ],
      "metadata": {
        "id": "Vh34gU32NH7U",
        "outputId": "ecdc9bc6-2539-47dc-9c0c-db6a02127e5a",
        "colab": {
          "base_uri": "https://localhost:8080/"
        }
      },
      "execution_count": 49,
      "outputs": [
        {
          "output_type": "execute_result",
          "data": {
            "text/plain": [
              "torch.Size([4, 3, 32, 32])"
            ]
          },
          "metadata": {},
          "execution_count": 49
        }
      ]
    },
    {
      "cell_type": "markdown",
      "metadata": {
        "id": "ZHkUatSXmgpG"
      },
      "source": [
        "## Transformers for image classification\n",
        "\n",
        "Transformers have been originally proposed to process sets since it is a permutation-equivariant architecture, i.e., producing the same output permuted if the input is permuted. To apply Transformers to sequences, we have simply added a positional encoding to the input feature vectors, and the model learned by itself what to do with it. So, why not do the same thing on images? This is exactly what [Alexey Dosovitskiy et al.](https://openreview.net/pdf?id=YicbFdNTTy) proposed in their paper \"An Image is Worth 16x16 Words: Transformers for Image Recognition at Scale\". Specifically, the Vision Transformer is a model for image classification that views images as sequences of smaller patches. As a preprocessing step, we split an image of, for example, $48\\times 48$ pixels into 9 $16\\times 16$ patches. Each of those patches is considered to be a \"word\"/\"token\" and projected to a feature space. With adding positional encodings and a token for classification on top, we can apply a Transformer as usual to this sequence and start training it for our task. A nice GIF visualization of the architecture is shown below (figure credit - [Phil Wang](https://github.com/lucidrains/vit-pytorch/blob/main/images/vit.gif)):\n",
        "\n",
        "<center width=\"100%\"><img src=\"https://github.com/sandeeppalakkal/uvadlc_notebooks/blob/master/docs/tutorial_notebooks/tutorial15/vit.gif?raw=1\" width=\"600px\"></center>\n",
        "\n",
        "We will walk step by step through the Vision Transformer, and implement all parts by ourselves. First, let's implement the image preprocessing: an image of size $N\\times N$ has to be split into $(N/M)^2$ patches of size $M\\times M$. These represent the input words to the Transformer."
      ]
    },
    {
      "cell_type": "code",
      "execution_count": 4,
      "metadata": {
        "id": "tZmHtNxmmgpH"
      },
      "outputs": [],
      "source": [
        "def img_to_patch(x, patch_size, flatten_channels=True):\n",
        "    \"\"\"\n",
        "    Inputs:\n",
        "        x - torch.Tensor representing the image of shape [B, C, H, W]\n",
        "        patch_size - Number of pixels per dimension of the patches (integer)\n",
        "        flatten_channels - If True, the patches will be returned in a flattened format\n",
        "                           as a feature vector instead of a image grid.\n",
        "    \"\"\"\n",
        "    B, C, H, W = x.shape\n",
        "    x = x.reshape(B, C, H//patch_size, patch_size, W//patch_size, patch_size)\n",
        "    x = x.permute(0, 2, 4, 1, 3, 5) # [B, H', W', C, p_H, p_W]\n",
        "    x = x.flatten(1,2)              # [B, H'*W', C, p_H, p_W]\n",
        "    if flatten_channels:\n",
        "        x = x.flatten(2,4)          # [B, H'*W', C*p_H*p_W]\n",
        "    return x"
      ]
    },
    {
      "cell_type": "markdown",
      "metadata": {
        "id": "-LEk0Ae_mgpH"
      },
      "source": [
        "Let's take a look at how that works for our CIFAR examples above. For our images of size $32\\times 32$, we choose a patch size of 4. Hence, we obtain sequences of 64 patches of size $4\\times 4$. We visualize them below:"
      ]
    },
    {
      "cell_type": "code",
      "execution_count": 42,
      "metadata": {
        "colab": {
          "base_uri": "https://localhost:8080/",
          "height": 291
        },
        "id": "14uvDOfrmgpH",
        "outputId": "c1725f8c-2793-405c-bb43-20fc73d3ead2"
      },
      "outputs": [
        {
          "output_type": "display_data",
          "data": {
            "text/plain": [
              "<Figure size 1400x300 with 4 Axes>"
            ],
            "image/svg+xml": "<?xml version=\"1.0\" encoding=\"utf-8\" standalone=\"no\"?>\n<!DOCTYPE svg PUBLIC \"-//W3C//DTD SVG 1.1//EN\"\n  \"http://www.w3.org/Graphics/SVG/1.1/DTD/svg11.dtd\">\n<svg xmlns:xlink=\"http://www.w3.org/1999/xlink\" width=\"244.936875pt\" height=\"202.32pt\" viewBox=\"0 0 244.936875 202.32\" xmlns=\"http://www.w3.org/2000/svg\" version=\"1.1\">\n <metadata>\n  <rdf:RDF xmlns:dc=\"http://purl.org/dc/elements/1.1/\" xmlns:cc=\"http://creativecommons.org/ns#\" xmlns:rdf=\"http://www.w3.org/1999/02/22-rdf-syntax-ns#\">\n   <cc:Work>\n    <dc:type rdf:resource=\"http://purl.org/dc/dcmitype/StillImage\"/>\n    <dc:date>2023-12-12T06:20:24.954504</dc:date>\n    <dc:format>image/svg+xml</dc:format>\n    <dc:creator>\n     <cc:Agent>\n      <dc:title>Matplotlib v3.7.1, https://matplotlib.org/</dc:title>\n     </cc:Agent>\n    </dc:creator>\n   </cc:Work>\n  </rdf:RDF>\n </metadata>\n <defs>\n  <style type=\"text/css\">*{stroke-linejoin: round; stroke-linecap: butt}</style>\n </defs>\n <g id=\"figure_1\">\n  <g id=\"patch_1\">\n   <path d=\"M 0 202.32 \nL 244.936875 202.32 \nL 244.936875 0 \nL 0 0 \nz\n\" style=\"fill: #ffffff\"/>\n  </g>\n  <g id=\"axes_1\">\n   <g clip-path=\"url(#p28ec9466d0)\">\n    <image xlink:href=\"data:image/png;base64,\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\" id=\"image2e4fe0bd02\" transform=\"scale(1 -1) translate(0 -36.72)\" x=\"68.178872\" y=\"-28.236522\" width=\"133.92\" height=\"36.72\"/>\n   </g>\n  </g>\n  <g id=\"axes_2\">\n   <g clip-path=\"url(#p23059e254d)\">\n    <image xlink:href=\"data:image/png;base64,\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\" id=\"image39a4dc2b32\" transform=\"scale(1 -1) translate(0 -36.72)\" x=\"68.178872\" y=\"-71.624348\" width=\"133.92\" height=\"36.72\"/>\n   </g>\n  </g>\n  <g id=\"axes_3\">\n   <g clip-path=\"url(#p960f969f18)\">\n    <image xlink:href=\"data:image/png;base64,\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\" id=\"image0b94733869\" transform=\"scale(1 -1) translate(0 -36.72)\" x=\"68.178872\" y=\"-115.012174\" width=\"133.92\" height=\"36.72\"/>\n   </g>\n  </g>\n  <g id=\"axes_4\">\n   <g clip-path=\"url(#pae6afbb3ec)\">\n    <image xlink:href=\"data:image/png;base64,\niVBORw0KGgoAAAANSUhEUgAAALoAAAAzCAYAAAAgsRLhAAAyH0lEQVR4nO29WY9kSZKl9+l6FzPzJZbcKquqewiSIDEkAQIE+MS/TPCVv2JAEAS70dPdtWRVLhHhiy130Y0Povea+RLZORyABLpTE+bh6W5upqb3qKjIkSNy1XfffVf4dfw6/pUP/f/3BH4dv47/L8avQP91/JsYvwL91/FvYtjnP1BKobRGKVV/8ktdeAWlkHOhlMI8zQzjSMmFlBKlFJxzNG2D1hrnHVpr5G0UUCgpU0oh50xOGSjk+jOUkucqhbUWbZ7u0ZILpc5fa7W+5jI3peT/Ss51jplU32P5rKUsc83EFIkprvMpF+tQCpSS1/dTqPPare+7PF9ev++29N3myZxDjMQYSCkxjiMpJ/k7JbOvLyufSen6/Xm9lh8s71tKoVBQKIw2dS0MxliUUhhj0EqjtEKpZe3XFZJLmAvjOBFixFmL9+4CC3A8nvh090BKef17wcwZBoqL67WsjgKtFNrI+8oclvWs146LCXH5u4xiuf6gEHyWIlhbngfgrGPbX2HNU2i/ALrWhqbvMcasF+r8b6mLfwaQfNWgFDkVpmEixsgP33/P3//f/5Fpmtg/Hghz4MtvvuL3f/s7uk3HV998yWazQWuFVgLA+TQQQyCcZob9gRQTw2kkhIAyGmMtxllu3t/Qb/snixFDIseMdQ7XNSgtC5FLQWu5yJTCMIzMc2CeJ46HAzlnjNVoo5nnif3hkTnMfHz4icfDPXOYOZ5OxJQEZQpSSkwhUErBGIs1FqU0DgEUKqFIoAqohDWG/+G/+Z/49//1/4jWep3z/cM9Hz994HH/yD/8x7/j8fCIMgW0gEgZeUtnPY33AtYK4OVaaKVw3mO0IcVEjAmtDdt+h3eeTb/janeLc57t9prGt3jvaZoGrQWgagGh1kzTzF/+8CMffrrj7dsbfvvt1zh7hsnf/f0/8r/+b/87+/0BbQxKK7RVuEajNGhT0LquuTV1g8n7NI1jd9VircY1Gms1uWRCTpQi2FPKQDkDN6aJlEN9PY3WCmsarHHknIlzIOdCTomcM1+8+ZL/+b//X3hz/e7nga6UwlqHde4M7ksLpS6tlWwxsSiGlBJhjqhUOB4Hvv/rjwzHgU+f7hnHiYzm9u07MpqMwjiPVmCMJqcEaoIMKSam00QMkePjgWma0NZivcN5x+5m92zbQ06ZFBJGC+i0UiQKioJSGqNNtQCs8zydBlJOOGcw1jCMJ+4f7pnmke9/+gsf7n9knCbuHx+IMYnFUxBTYphGci4453HWoTF47dAoUBGlEqiMUglrDb/95m+fnAoA0zTy8PjIx7sP/OMf/pFPdx/AZpTJFTRyPdqmpW1atNZYY9BKUarBMVrTNC3GGGKUz2WN5WZ3S9O03Fy9RWkjAG86jHHYUlBGrKI2oBVorTFGM0fF4Xjiw8c7msZT8tM5f/x4z3/4D/8Xn+7u0dagjcY4he8M2iiMTWhTMEbjfD1JrEIbRd973rzd4Jyh6Qyu0aScmVMkl4LRDq0tpQDVWoc4EtOE1grXGLRWeNvhbENOiWmcyTmRYiKnRAgTU5iew/ol0FEXj8KTi/PyYKk4KxVtqNUlubra8cX7d5w2A0pphmHk9s0NN2+v6Tc9rnEoLa+Yc5bj+zQynk4c7/c8fLgnzDP7+wPjMFKARKHpWra3O3a3Z7DHlPj+zz9w9+Ee4yyua0ApYs7kkvHO0fUdWilijKQUCSFwOh0pJdO0HucscwjkBCUrNBajHJpISZBiZg6BkOK6PnpxVQrkkplCEDugIkpFjIW2M1hnVkv+ZKmVwWiPwjLPhXHIFB3JOmKMots4rNVopbHWYLSWTaXVuubLplaARmG0EpA5h3cNbdex2+3wvqXvN7RNh/Mea0x1OTLVI0RphdGavuu4utrRtu0TtwWobqfHWkdMiRBndNKkkuR00AWliryWjWil8K3BOTE2FHGbjBGLrlGQFQXQ2r2w6LZALkZOnbrxnbFYbUkotBb3Uqvq8inzKk5fAn3FuRKQLyB+FeX1iteJKQVN46GBN+9u+Pa33zCcRpzzHI8nvvzqC95/+Y6ma2i6BmUVJYkfHmPkeDhyfNjz8NMdH777kTDOPHx6YDqNTCFwHEf6Xc83/+4bvvztl2egz4F/+od/5h//7p8oWpONLFzIiZQzXddxe3uDtZamcVhrKCWTS0Ip6PuOtm1IOZIilKxRymJNgyaSgiLOmeNx5Hg64bxls+swxqBKBXrMhFGOUaUCqEDTWPptj/cWY/SLJdTaYk2LKp5pgNMhEZmJZcJ5g/MV6NrgrbxG47ycgHkBg/iuqohltkbjjMH7hrZp2W623N6+wfuW7eYK79tqvS3ryVyyuCBKYa1hu9twO0W2m341RsswxtD4Bu8bxsOBYZzQRqEnBWrZgPWVVUErxWbraDtx8Sjyeawz+MZQAFtPKIVFKbNCDgraOLSusVuJUAoaj1ZOPrvWqFzQmjU2eQ2srwL9P3U8cWSqH2uMxTeelDLeO0IQq2mdxVpTF1ABuQaBmXkOjOPMNM0SEI0zYQ6EEJmmmeE0oo0mxfTk/XMpnI4n7u8eyUDSkIGQ4wr0FBPWWtq2wfv6sZVc4JIl4IRCUUWsDhqtDKBlkRPkVCToLaCrO6S1WNyicl2MUi2blt9p9STwuhxKabQx8lAapTQlqRqM62oElvcsK4jW4L2CoaTl3BXgU/1tbcwaQ1hjJBit85UAsQJzOZmqaXfW0TQe6+yLAFEbTdN6msZjBnmdUlhdnLwYvgUbupDLcuqrGlhXd1edf0bFjlLn4FWIB40xhVwyKdX1LZpqwC+djyfB6fPxnwn0p0FpNTBQwDnHZrPBaMN2t0VrTb9pabzBO4PRCq0hxkwIgXGc+Pjxno8/fGD/8Z6PP34kzpE0RUoUa/rx4wNTjExzeDKLGCJ/+uNf+T//j78j5sRYfb5UMqlkrLX4psUYTde3cpGMpmkcxhrevr3h6mpDv+n54qu3EvRgsbrBMJJmiFNGZYXVFm89XdfjnLgRSmkJhkMiK0XbtTStxjqF9xZr9Kuui3OWrmvp+45Nv2HbbzgOiXBSFDLTcaaEjMPQGIu1FqssFEVMiRjFNQsxkHOWINM3oAzOtjS+x7sW5xqsbST2sk8vuUIjZkFRimyQq+sd1nmc0ZXBOo/tpuf3v/2GzaYn50SYZ8r6H+iiKaVuAFXQKJzxeOdwvhG3x9v1dUupBgSJF5QW1sxaiUV8I25PzsvnLKQ5EUOWk6hIHJZiIIRAiPOrYP8Z1+WXE4uw2pJ1GGPwjSeXQtt6Ukp4L26DqQso1kAovRgjx+OJx8cD+8cDj/sjOSZMVqiimObA8TigrARdlyPnzP3dA3/57gdCipzmWSxAyWQKKL1a2H7T0TQe7y193+KcZRpGTrdX3L654fbtjdCeGIyyKAw5FnIUS6+VEbA7j/OuEjEKVWA2snK+sXS9xxgwhgsa9ekwRtwT74RVabxnnAwqQ0kQp4TKhdBEYkhQFDllshZqNEY5saZ5JqaEUhrvG0CjjcUahzEOoy3GWLQ26DUov2TRlisup0zbtmhtBUTl6Vo3jef2zQ25FL7/vsEaYU5Srma8aEoxoIq4Uyi0tsKYGYO2crIoLe9fCuR6GFIxoZWSoFsrvHN470g5oxDAT2GC6sYsREnJiRQjuVLZz8dLoBfIRdyB5yzBz43ntLu1hq7rMNpwc3ND27bsNhuc1lit0KWg1h1ZeWAljykmHo8nUojoCvTH48BxnDCdr/z3xZQLxFyIKROjgCBXajGXAiqDhqyEIxbWxZJSwjnLbrel30TCLIAy2jAOM4f9wDiE6lN6tNU4HL5xMt+aI8g5U3LGWLlAbevoel/55MDnTIYxiqYRX9V5I2yEdTT1pHDaYZVGZYkRKJkUxR/NGQqKnGGeEyEEwACWnAzTGJlcIsZCLuqMCS4NkoSwVN67CJWDsQaHoiShbC98JprG8+b2ilIy221L2zgKss4CWkvOWk7UHFEKYUNmmKfAcJokPgJSUsSUGcZIKdSYxOKcQVMwxpCMJmld3TnJ0ywfRqlSg3WIVqMDK136fLwAukw6i8+qyrOF+cw407oSlKLw3nN9vSPFTN+2xJDotw2tc2JdAXKuO1gsLkqTleI0z/x4d0+YAmQFWRIV94cDxRvmGF/MOcTMOEc50ucsCaFquYqCrDIomEMQRsBo3MHinWWz3dJ2HV03M08Rhebx/sTHTw+EGDDK03qDtqAsaC2WqsTMNE3M84Sxmq51NZhrubrpSSkynBKvmQylFM4beuXpN56udbSNJ7UNOXQopfDVqqmomYdETorQFFCFVBQ5a1JKnAaJacY5M06Zvi28uZqwOjBNaWWSnsxhSfag1+8XP1oo00KYZ+YYnvxd33f85tsv6bctf/rTH7n79EFerGgKEKMWAMfIOEtiLofINEROB83jw4lpsszB4FvDNAUeHwZyLrStw3tD13msKnhvCUsyLBdyFINSUkaVjFbgvaFkRYyaGISzf2286rosiZaFdvqXHJnnL12Q48cYiyLjmwZrkvi0axBy3kRKsWa9UNTjODDPMyUBGaZ5Zo6JEF8/mpY5l3IRuC3fXzBIEr/JBiv2HFhaY9FaVyudiSEyT4FcEkYLDaYtaFvnniuAcyblhM4LHy0+ptGKkpegUT2xisvQWig2a4RuM0sAW7OWWmtMDVJRumYE5V9KFgtaIKVCSgUdC1Fnoq2nWiqU/OJt6+W8CPrWKyhz1PVkXYiFy0svJ3XLNE20NSgVUl9OBGME6ErBHGdyVgL2VEgxMU9Cz2oLqMI8RqYhkHJGy6tIIinl9aQsudR/5ftLl0VJtqsG/voCX0/HS4teCiFEUi5Ya7B2yZAu257Xz4aVdxeAoTXWWYotlc4rWCvJA0nHy4UyGrzTzK7yqlpLZvL+nvE0EudESoUYI2EONHNLzOnF2y/HZ3oC+EqTXsTMkkrWNE3D7c01Xd/y22+/5fd/8y3eO0qGaZjZPx64/3RP0zqu32yx1pBJZBIxBU5TdYFSoiQoNdZUapEXpBp7yFxzfgl05yzWi4vXNi1N0zCcDDlLIsi7BucsrvW4VliQTbfFesfxdOI0HplDIQVNToakNFEpooUUZQOAxALGmDO7wUXKnnOsdLkXP2fk2rbh/RfvaNuWb3/7G+Z5lgAx5er2WkrRPD7u+ctfE3OYK+GQUGrmww8HrNP4VmO9Yp4Ch/1ALpmrq5Z+40ih42rXojQ4G8m2BqNhFsteIqXkixBD4ZyldC2+aV4N/F8FeoqRnIUDxT7nJdUr3PriY0OpLp1SCm2FvNeu0lc6oXW1hErsrK6ZM1sDVG0UIUb2hyOn48A0BgnE6iymECTweTYykLm06K8kuirwtVJ469hut2y3Pe/fvePrr74i5cQ8j8whMJ4GjvsDWm1ofUPTekKaiSlQcibOSViAUk8Ye34/oSMzOaU1niivmFZjLNppfCNshJx4wpEbXWk+7/G+xbet0KPNBuscwxCJ85EYqFSkZJsTkJyStHgWikBXWnFN/qhKAz+5rmegL+B5zWkVl/QKay3v373lsD/Ihg+xGhYHSlyunz58qr+bCTEDgYc75Hp7+XeeA6fjIOuTMyU3GKMJIWKdIeVIKbomFcOF7qh6BEpiOGMtXqk1G/t8vM66XLoSz+iUJ/Ap+SmKLvFX3ZN8sYAlBUoMFDKpJHLJdbdnjoeBx8d79o8PDKehZjBTDfYWoAvH/JobUGpcUZCsnCoiINJaAiNVgWaMpKqdc2ItraNtG/qul3m1DTEFvnj3jpxmmtbTeo/RmjAX4hxIMSHJCY1VDrTDGKHJYkjkVGp8p2kbj9LqBa0H1XUxFu89u+2W4/UVp+MR52zVtMhhbq2ja3u891xd3eC9Z54TD+YIRbPpoG0yTdPQdR1d13N7+4br62v6vq9Mlzlz1M8A/p8yjDG0bUsp8PbtG4ZhrGAOlAy5yJxzzlxf7UQnoyAP4taVpEjVlUyxkFJN0KFF09O0tL6VDe4cGqrhXQR4Z5ydufOaPFser4xXga61QlUNxHktnqK9nKPPNWhd11BJAiFr8aliFl47xoE5nMglEcJITpHhJOzG8TDw3R//wPd//cinjx+Yx4kwB2IIxJhWVzLGQC7PWRdJ+MQkQaquOo62bXDeEWNiDgEKWGcx1tC3LX3bsek6bq6ueff2rTAdTlNKZtc7fvP1W2IKDNNJ6M+wZzgM4rej0drhG4trLClHxvlEmDObPlOywhpHe+VwztB1zdM1VEimtm3Ybrd89fWXOGeJ08z9pzs5CbUkrLp2w5vrd3R9x5dff03Xd5TsuPt0ItnMbmdRWnNzc8Xbd29o25avvviSTb/hzZtb2qbFVAkBiqdgXzM7r+LjxfDe0fQd2+2G//K/+i94/8VbYkxM00zJmRAzKWZ2uy2Hw4nD/sQPP32swWohh0QJhUyiUF3Q4tBG0zU7bnY7druW3WZL01piGgnTWOct2feiFAUFuZDyheI155X9eT5eirrql8W3XVwAMe6V5L9YnYLwpeXCskuQJOn3nDMhBXLKhDgxhYGcE/M8kFLkNIwcDidOh4HTcGIcBsI8XwQi8lh0tuUzu3ZxV85ZNoTdMRpTCjppKOVZ0Ldk6vQqarJWVI6STd0yTiPzPJKomzcmsqrqwsr3OmtRSVZHaFlZMa0UzhmcEw77uSegagbTGEPbdfR9T9M2YgWr+7fIa71v8L6l63r6vhfNivPYUnBNg7GG3XbH9dU1Tduw2Wzou47G+6oQVc/ev7zy3SUIXh9Ka6wV5myz3YiBiXH11cMciDGz223YbjeUXGgeJFmVc6qy64XCZl1/hWSarXE442o215KSqtdfkknPg+PVTV3W/fzlyXhV1LW4LjHOohzUqiYcztGtWPGqGS/nCDnEmZwy4zhwPB6JMXA8HQlhJuWJkCrQp5EUI4fHkfuPB4bTzA/f/8T9pwPH43Glui4/0PrBXrkA5zS+DJ0VMQbZH6XUBJW4G8YYcs7iX8bEDz/8yO5qW/XSspIpjuQUGMaZ/eOJeZ4kOA4zyiisl+e2raHrHSkrtGvJJdP3rnLjmu3WixVsXjs8RWrgfcO7t29pvefx/pGPP30kR6GbFIq+27Db7Nhstry5ecN2u2X8JhCDuGq+FaBfXV/x5u0tzjm2G8ncdm0j2u26RigkPipP0Xzpob6mC1/XVQmzoo3m+mpH2/gV7AL0mRgS1ljmKbHfn3CuxTnPMAx8ursjpChiruWrqpIKJeB21tG1HU1rCfNAnCPaaFwj+YVUJLgv1FqBWouwyC1eI0s+kxlVFeiRcZpqKlY0z6JTMdXiLEBPpBTJOTFNR2KMPD4+cHf3iXmeuX/4xDiOFGZSmeR5NXHzeDfw6acD8xD58NORw35mOJ0glxfLfd69L+e8cv/1eVkpQojyaaoqT1Xhv4iiMsfTQIyJjx8/sd1tVzpSKehaS+Mt4zBzOoxM88g8inTYorDaYayi9Zq+s6SiUL6hkGk7h/daMqSbhsaLzufp5znDylnH7e0tXdfy4ccP3N7cEEJgHidyzrRNy6bfst1sub66YbfbEWNeEzxN12CsZbvbcH1zLQrDqt0+69fPRkJOYIH2mVnhDJD6s9f1OWr197e7Lf2mr9dFADdPEzEEvPdQjJzWx4l5itw/PPDw8Ciu6IVeRQO6WnSjatzkW1pvOaBkzYtFN1VXVPLqQeRq4BYpxjkO+QVAF2Wf6KX3+z0KJVJTpfCNw3sveuk60xhnQpyJKXI6HQhhZr9/5OHhE2GeedzfM02jSEKNUEMhBnJKxDgSwsgcIvM8Mc/zmtpeKLlL0c/neFK1HEMXjMsSoJplAZSk0EMOaKPlSAT2+wN3n+4lso+io9n0DW3jmMPENEqKXStN4z3WKdrGYKzGGoUio1XGWkVBo7Vs/pwlpjCaNaB+utCsoirnHCVn+r5nd7Vjnmb2Wfh8EI1+SgnqRhSrvRFf34uP66uyUaszw7JYvXV9KpB/zmqff/v6c5bX0kL2nwNChErWCA15dbXFGMNut2Gz6ZnmEWNqoU1ZPIJzDLm4qbnmMYIW5khVhn1Zr5wLKVdGq5wxsuQgXhuv04s5QUnc3X3iz999J75VjkBhs+3Z7nrxLasqb5wGhlHck/v7j0zTyGk4cDg8kFLgNB6IcaZpLf3GAdR0LpzGgePpwHiK7A8nDo+B43EmTDMpVS68JlBExP86fQRyrOayuDCqctgKlMVV12WapAJKa6lYsmbkT3/8jv3+wDzPHPZHSilc77Zs+15A3QoF2m0du12Dc4puqzAGsBmYJVvqDWjQNhPzSAkKfQqEIBvmKYFVVtWfVobtZktqO7766iumYeR4OPKnP4oqs2QYhgHrnBSoFNhtN3R9K2tZQWmdEf9ZySZfywCry7JYYq3U2d99AXHWtf6cQVnKLVGgFv84K9AFb1qg0DQtm27HMEx8+CCFN9oU/vznPxHCJIRClo2bcyGjSSGQQmQeZw6PR+bGEKeMwaHR5KRQGeYYmcNcSUb59FpLLGSteRUfr6sX6xE3zzOnk7giMU41rR5ApVrSJAAcxhOnQYDy8HAnwB8OnE57Uo5M85GYAiiPa9pKEwJZkVIgxkCsxRAhzCudlEuFhrpY4OVKvHIBLqZfgVRqYkFkCShVEw8C9FIk43Y8nWoZ2cTjw17AERMpJNrGYm0rYi5jaBuPc9B6KQRIaiYhwbI1CoyiqFyBpoi1Au8yfni21FA3sDYiqNpsJIhzzq0ljany8osYy1qDN45SkCQZZQ2wF7pgIRNUzSAWXS448s+PRXv0cxZ9EbPJc+TzK1Vtr5LTXiuH1oa+b+m6hsYvak+EJlzEETXLu7imOSViiGglEmXJBCvJ0SiRLqdlPXWdT40fZQP+Uh99mYwuFBIxTTw8fpT6yaFhf2iqVZCPOc3iw6YYOJweCWEixokQBwoZY4pw2lbYGGEllUy+5vhLyaQcq9uSLpICl5m7i2LpVxZf6DgpzZN/zxrsldev1UyLfrrkwjAMgMh9Y9XRaG2k0Ha74TfffEHfea5vG7ZXDqUT2kxAYghHxngi60JUmUKWIoCqRV+qf16D0xlWBapGvG1brq+v0Uqz6TekUKUT9dwOYWaeJ1wjVT6AxDPVsuYoIrNxHGv96Dku6boW7Z5fcvX0O3Xx4AXJsf5OEm+Vy+a8vssoyLXOJFKapfazzBSVQOf15JVNIf61rqdNyZlxGIlRDGHKCSLMQeQDRec15jJW/nW2au71L/TR1yp6requE2t+//CR0+mIr2q7ihIBSLXKkgAaqusTKURJ47pK8xkqsC+ATq4PCWhjiqR0WXVfEGVdOTMrL4BeF6oCXBuxXMboFehLlXxOmRQTRctrZJUZTiMxxPX3i6/nnGO33fLtN1+zu+q5uW3Y7hw5z4TwQMqBx2NGnWaiyiSVBOi1VGwxBP/yWNwETdt2XF/foND0fU+YAt7amtPIxBiYw4Txkg9AKUgJVYSjzlH829PjiWmeRYno5UhvvEM5wzPosvrkasGxWgmJV+daT0d1PnDJSlSQ5z+p17UkUg7ENJLyDLWWVuInyYyrGlcIzSvamHEcMGGx+WLkpEC94DqL6wTUS02AJALruv9i16WO5Q0KiVISucSqg04XwiwJvMqShC/1KHplMVcenAXkS5D51DVRegl4zn7sz0mGJSaqzApQygJ4s6a/z6UB8gdLyw2jNd47nHOS4StxDbo3fUe/6djuNuy2PW0rRSMpZUq2NQhdqoOq3PiCGxfUPEstv5g859+rWpNpbc3c+vqvWyuztDn71+KhnSUPMSbmQQL6/eOBYRhpWk+3acneSYZYLW7Jy3lcTuWXS7RfpMMBySfEWmcQUyAmkUuoesKcS/TqEVHOeAONtRZjWTPjZbnQT9727Dx93tGS8TNArxLLEsg5kMtMLjMxFfKcK2XHyltaxyrAXwu7Vi5cCKScC9TiIKPlZ0pJiwOtS9UiJ6LLOJekIHmOxFit7LpbX36kpWdMzhkb5cTxjSRfcsmrGo56YjVtw5s3N9gq7HfWMU0TDw+PaKV49+6W3//+N3z55Vv+9m9+x27XoRiBmRQVQ5Yk0qAdA4aiwFQxtHMe3/oq7gqfvQzLpoC6H4qSwomNxGlX2x0lZnzjaRop8PadxzYWZRUJaROxaOIPjwfuf7rjdBz4p3/6E48Pe27f3fLlN+/pNy03N1u07i6mU/3f6japhe+rQPpMNv2Mj+U6P/mpbPaYEqfTgePpxHHYcxr3hDRhG4NPjmlOEssoJVqWokmpEGKk1Q27qy2+0ZxOJ8ZhrPZCnwP6VJOU1TOQj1Rqkv6XJIxW31gi2lwyuboWhUQuSXTkCxtSliDAoLMsllodu/Mxt+xaKR4W10WsS5We1mNLElKS4MlLb5ZKj62v9QwzC2CsMaRKMQLis1kDieoO1efXUq22a2uJl18Vlovv17UNu92Gq6sNV1dbdtuOGKT0TxWL1Qa0wSxHbg34VLXKxhpyViJK+pytWf3d5X8K2hjpTeNdzYZKjaucOrb2oFFSSFI/Ua4cdphnTocTh8OJu4/33N09YKzh+mYnlUB17ReYPrGFckFfzPRfsuvn358tdEGtJX4hzE8sujZa/Opaf7Airp72i9/uvMU3lmma1nmd1ZeLDFsei3OhfmayL4CeciaOJ1LJ7A+PPO7vGYYj4zQwhwmtM9oIQY+x6FXXLGzDUrCiWSx2TVpoDctGWTaBqhXh1mGtqOyUqWIsW1i8ybSkgLOwJj8XjBYgLzLNi4BKKwF417e0peX6ascX799jnWUYBqZJ8gC55NoUyLLZtLStX2nUxX+V5IYFndHaopUVelFrCZSqzECCQ4kpcnrtKpz5jUpE19YWFuc9/XZDLhlrpfrItw1+UTlqyWtINjISQ+TT3QN/+vNfOOyP/PWvP3B//0jbt/wm5xXWWlWXUZ132Tlp9EvclSr7eLIlngahrNojkYFI/XBPiJmrqy3ee2KkCroyJUQKmXGaOBwV1heOp56ULeM0r4m/UjdGXvQDEaKOpCT1x0qJ7Pd5Lxp4Beg5JaEKk1CFd3cfGSfRoczzIJ2YrFg+6Syg19rAJdW1kvdLZFz525w561aU1GVq7XAuk6JGWxEnaQvWL6dSqacIqJTX9nbPx1oPCTVjy9n6V/pJoeiaBuccb25v+eY3X2Os5bvvvmN/OBBCIGfpdNU0ju2up+sbSXLUi6uKAF1Ui6xNd7QutRZSaFdrdK1jrCVgS3LjYvMtG3DxT0EEaVopmqZhd32FsaaedOAbj/cNznmWQoxcEvM0M40zP/30kX/4x3/m8Hjkj3/4C/vHA9e3V5V7X04cWYe8zKMmf9QTlv9nAF+t6GpRWea/fF9PmSoLiDGJOnO3I6O4PQ0Mw0QIUhwSQmRMgUximAbMPqBtYr/vCFHcyTkElNJrDkXo30LRhZnllJINOI7Tq9r/l0AvmTnMTGFkjjMpRwFaPSOEepSEwfp9fSwLp/QFr7kmGGSB5QR4GnxIdVBN55blsVjusyf4OZ2LLGwhZam0SbVEb+GyUVXrokSEZeuGSjlDFM42hLBa9JxFEz/NtfXGMKLIpDCRwkxOgVAbIcUoGbp8efUvjtM17fcKXqhM0uVYTkelpRmUjw0LNWwrr65rxVGpTFKYI+M4cToO7B8PHI+nummrNNnatap+qRtQFzvulzFDPz/O58EZ9Qv71DQNfd8TU2az6dHGsN8PNKcJpWAeVXVlWYPspWJM6OCMNgLWsxGtz606l5RrY6o58lrO4gXQQ5j5cPcjh+GRh8NH5jwSmVFOYbTDVbpqkbRqo6p1l6PaIaATDlmvwZ/SClMkkVgKpJAJSbpfjVNkmgLjNDNMM/OcGaMwPImEMvJhMlz0CDmPUgrDNLM/iAQ4JinKLdqDlnYTbSOlck3jcdaTc+KnHz+QC/z400c+3d2tEoDkDD99+MA//fMfuL/boXKgbz2aiC5RYpU8kUvi/nRgPw5kmygmVqZI4hh5VFfteeFFkaqcMIeL5puLnS8YZ9ldX9H2nbhF9WRs2w5jLaUoKaObMx9/uuPu7p5//uc/8Xd//x8Jc0DVRkFL86ar6y2u8dWFPCsszy7IYtX/Xw6FUJzy4TCmFsdbw9fffMVm17M/HNlc7xiGYRW6HQ9HUhqJMeIag22k6gojG3mO0v7Pe0/b9VgnxdPOGmIMnAaRUB8Oe47HI625XnMhPwv0lBPH8cD++Mg4D6R6YZWWI1s7u/ZM1FZj9LlOshQJptClkv+6UmZnnlhpCYpSyGsJ1lJyFpM8QhKwppzF76/mMV9ShE8xQ6z9XoT5EdWiTxqbFdYqrNO1VZsI0wqFw/FESpnD8cTxNIg7oQsqweF05NPdPSUnbnc9Q+txuuD0MqdYj9uZcQ5CNdYgvXKiLOrOz+FHaikTXLh5i9hKa03bNWJUVmOh62lk1kqukou0CXnYc/fpgQ8fPpFS5mqzo20arHO0bUvbtqsLWeBZCcEv9c8/M5Y/l2NUfHgl5W1KwdXVDustvm0IJXE6DdzfP3A8HSkl4pwBEsbq2gqlHmFKkXImxISxWYyqkUSe81aMXxZadRikme3pNLzoEgGvAT0lDoc9D4+SyldKMn3WaXSmlrxVC7MUAleivlDW1Lq0K14ENsuRnmrABcUVjIbBFkqZzhZmcYOqdVNKSw+QolbMlBdnbSHnRMxx5fuNVjStYbtr6PuGN7e7c5VQKMzzzPE4C/c8TUsPn4rN2r+l8tlN09C2DYaIpgZGuqBLTVTUaqDqGFCyrjpqjda2hiQvxUbPpcXnTyPPN9XFWvMLNYOokCr7aYqcDgOfPtzxw/c/cXf3wGkYZR470Y07Z6t60q3cvirqgnV5BtjPYPhnf75sbliDamGfTO2uW90tJBMuhrNgDLhGs9k1xGjotw3dxuG7Bm1kQzdtC6pIEO69VGopTa79MKcxMs+hUrMt1nrUK8KuF0CPMXB3/5GfPv1AShNKSx8RX6tddG3DpmpbYFP/dbWIevGjrZH2c5QiWdOcoRhKSmDAaunodDpk4FTFW9X3V6XSjiyl9YLuzEI4vwBGzJEQJ1AZiGhl6LeOm3cbbq63fPvte4zW/PD9HfefjoRh4OPHO+Y5kmI+exa1et/oM8g3m55N31LiSIl1DlqRydjoMcaBLoAE5jkZqeXMCmOkB4zRZqE3zvOuKXsMFwH2Su/gvKdcnAiyHAKYOCdOjyce7x7585/+yh//8Ge+//5H9ofT2sbaN562aei6lq5tnlj0F+hVT/+nxvAvx2qILhafZf5nv1K6MtvqulqUlkCy5ETJEa0T1mfabLh+IwUc/aah6Rxt6zDOoa2m323ot+3a81EpJU1fE8xz5nSahILE0LY9TdP98uLoGGNtiCNB6Mo+sZ4oFxqFpXrlTDOqQj1mxLqrJOCVwFAss9LSoFNpfX7NCx5d6j7P+uIL2vQzY3Frlm6uwsW2nafrPZttK4mixmKdsBgi9YzkrKgRWiWOluymcPPeS1Ipq6W6KK9Ad87hogNbKEZXt82gMPVzfT7JtQaj+hW69DJoVJflYfI6OWfpJT8HxmFkGAbmKUjgpvMTtmlxe85//5/hpnx23ak4LxdyjXpjiHyWbwjJkKX4QxUJMq0mrzW+ch1yzqS80MLiyiyn0LlOFJY8zNLi0H5G3foK0DMxTMzzUP2i6mfWLBxKaEVd21mYqmCkrFiBqj2wzkoiI8RKLYr3srAfWlVppdPSuKb1xLmgVRKrGKXaXsRSP+ulVw6/9ua2iqbTvPtqx+/+5j23t1t+9/t3KKVIOYAWDYb7q7SFIKvlngq10qW2iWtaNrst796/Y7ftyfNAiaNIcZ344O2xZXPqiSox2SAbQReULrWCXWao9cvcXE6ZkoJcsaZIoy04Mw/rM9WT7xUwjzOPd4/cf7znw48f+fH7D+z3B1IpWFQN2i//6rxWrwL9iSdzVj++fF4tTrns/rUCPDNHKR6fawvBGCP7w4HTODCchtoRYCbnQCGCztimurtW3nmeZ+7u5kqpirZKK+kMoJTCsOQuDNvtji71Ens5w+3N7auF6K/r0ZPoE5SWHffSWsruWSzek/YSi5VfStZUXhMiZ6at3nJEy0YxVh7OW5omk7Nm9gqlklQzEdc5lM9dKFXWhJVx4Lxmd93x9v2O2zc73n6xQ6G4+/TA6XjieHBSNLGoOsuioJMNaIzFeUfbNOx2W653G3Kw5OBRBowv8p4OtNeEkjgykUhkqqAtGoyea1zymo8uLlOulqJO4+IznT/pk+xqERdzPA2cDif2D3seHx4Zhmllp56AVV28QlnTHS/HZ/D/+lPLk68LVZyidASYppnTIGK5cZiYppl5DpVkkMRhUQmlM8Yh9KKW10opEacJKPSlASV1r2npL2kUVhsUmqbpKCXTth7fWPrNZlWxXo7PduqSo4aLjl0XAF5YAs7c+bJywmtKskDPS+OZSIhR2hvnjFIFa2J93SLdUpOhbS0pFnLRzPWmBaKk5Bwsfo70VWJFrdN0vaXrHcYVigrEPDJMBwni8kRRCW0VTeukd2GBkKlZXHHFYogMx4FxGJmnmbnxkBIlZ0keZWqraNm0Vmt6ZymqEPNMzAGlRg5HnvR3uRzzHJingG883XaDcWcIPftwL5QP0tswn6vfazsIOZGelpStDI1cLBaeuv5WFrdcnpVlxcELbCCnPlmv8dhanLw+lrnI9ROGxJNLw6brsBr6ruV0atbOa7ksBedlpYQKRdpoqLzSq1ppilNgdVVAinudUiQGqcT6RU1GS2H1reTeMGXN9ukaYNh61wWUPH/RqJRcCHmWC1B396qNDmntm7dUJ0kD+kzXG4yB3XVb3aFADJXRcbr6mjK5z7m7ctIkmtZyc9vRbzy+zWQ1MsXE/V7YkikewUSch6vrHu8jRwJDTgJ0JaAdh4H7u3uuNh2Hw1H6dJeIRtyjrKmniJK7bHjL1VWPspphOjHNI4fjnjB/YJ5CbXN8nnspheNp4OHukW7TcXV7jad5BrVXRv37VUsSAylF6TVTwFdiwFR9NxfXszyxFBcsCUuXs4vStPoeLwL/usH0oiwFuCiOLzlRkvip0hVX03dttbgKpWfGueV0eiDOA2OYQAmtLAlDiYGUFmM7jCPplKqqU4C+aTOlOc8TJDBNSZJ8rzWLet2io1Y3o6xHnRzta9Rd32KxA1qItbOgnupwVGuzlHY9edQiBWs02Yplj95gfa7ujFmTTeSynhwvcK5q8GuFJ2/a2vFWS/uylCFURWMuomnWVqS4JSsmWzBGUvy6Ws+S88rtpyT3x1lqZM8WcSVF19NOLXWLSgLcnM7dfZ+Ps1X+XMb3JTWyEgOXDxY673zintt6qCevVB2kJwEkiJUuVUe0uFBlaQX9bE4lZ9ETXe6V86VYiQpTC5Yp0ifdJmGyck7nlha5FodUylPlS+9BiVq2zksrRdGifVruire8X84StOd646/n4xWgq+qnOhQ1glzltBqqnFLcSnkzoxXFiJ5jmqS4WbJ9ZmUWlFZLmIzSYB04p2hazWZn8UGTs8I3Ga0scdaMLnB/3zBOkiVVMVbl21OoG625ud3x1Tfvub5p+eo3VzSNRtvM4/GOOVmK7tBKk7J0sd3uOr7+piGMmUbveTCDBFFjrPfh4YW7YJ2lqc0xixYhElGsUJxmjncTGRimgXEaOZ2OHPZyV70wPyuOVnLDgKs30mjJWPOkN45ciQWWZxAtX42zNH1Ls2np6kNO2EzbNLy9veH2VjoG6JpkykXVhG1Zy/JKLWSJKcv9mRbwKuBC8bmMnDJhnlnuQ6S1Xg1hUVKgLS0r5A4jOWcpeE8BlT2p6bFoOt/R2paSC94atJKbLC5GRHo4FvSomeZZLHpt2QdUVrDGjFRcqcI0jb/MootvJxrxtdKkyM90BXpO1ZcqS4uw2oUppXorlsBl+wFT2x8vtVcSyErQ6IsmF4uNIuyytpCzZhyoKXspOlC1Z+NSOvVkzlqzvdrw9v0NN7ctX3x1jbUwhXuOw4mUHdokUUeWTnqd9wb/tiHOEIdCngvTJMW5soCsFnOxfsZovLcUErEkckVmyZmQI4/DQMiJcZqY5olhGDidpotmo09ZEN94lJW+L7pyzkJhLDzLOQSVoLKwTMxYjWsdvvU0nadtpYtAjpG+a7m+2nJzc0W/6Wq2WlLqqbB2DKYUaRFYT68QpcqqqPOWMs/WOle1odSHLrfIUedTzTkoBWczzkr/HE1hmjNYS+cadIHGtjjTkEzCGQMqL9JyFjl2Kax3LZHiZ7kFZYlFuiPU21tWXwJKkcLrX6J18c7z5fuvcc5XOW6puhZzIeKqQv1abLtIAHLOXPVjjY4VlwGsJAtE/6G1pu89zhlCFCFOSoWhz4RQON0k3l5L5u/m+kv2+0FaIKTEzc0Vb97cPJmzs5bfffsb/rt//9+y3TW8e9+jDYQoOgrnLX3fSCVQbiBbSjTkyZECXG/f8PjNSZIwpxGAd+/fcHO744v3b9jeXtFse7n9nzMUMqZYdMk01lCaBp8TKk2kItTaHAPzNNFYSYZcX93y3OmS4Pfi1iQX7AWLpaqQWxJqWdXOBpRVYfn7v/mWpnGiYhwmfNPwu99+y9XVFTdvdnLLFETHo3ShpEhOcseIsgB+9c3Pc3y1EmnddZcF32dR3+XvFndVVbq5FEfTtGhtuL15Q86FOY7sxq1QsasrdvbJhmliqieIWzjyVOTBeZ0ksZb58v3XcnubZ0N99913T06nmCLH054Qo1jr5W0vSp+e8/Hr/xcuVIcXS7V+qdZKLfqX891/JQgWTyllaUBZcmEOcW1JLK2nDe/evWG7Pd+FOaXE/cMDp9NJOjpZvR7jhbyyKYvfDNW/zAKgGEROuwj/gRp0G5xz9H1bI/5Fz32m1nJZkiBIgUphvcASkAuX3nc93bM7R5fli1LPah0/G4quAJCb50ox92F/ZJ4Dl3WY0pPe0LQNbddyeeOwJ239ygXXUp7GCp8juJbrqdTPbAbOrM3iYy+MTC5SJCInSK7FKa+8R1kaUy2u5HLElieB/eV6Oeu42l6fC8eXl3sO9F/Hr+Nf43i9rdGv49fxr2z8CvRfx7+J8SvQfx3/Jsb/A3x/cTj61WnjAAAAAElFTkSuQmCC\" id=\"imagea8d20a8195\" transform=\"scale(1 -1) translate(0 -36.72)\" x=\"68.178872\" y=\"-158.4\" width=\"133.92\" height=\"36.72\"/>\n   </g>\n  </g>\n  <g id=\"text_1\">\n   <!-- Images as input sequences of patches -->\n   <g transform=\"translate(7.2 16.318125) scale(0.12 -0.12)\">\n    <defs>\n     <path id=\"DejaVuSans-49\" d=\"M 628 4666 \nL 1259 4666 \nL 1259 0 \nL 628 0 \nL 628 4666 \nz\n\" transform=\"scale(0.015625)\"/>\n     <path id=\"DejaVuSans-6d\" d=\"M 3328 2828 \nQ 3544 3216 3844 3400 \nQ 4144 3584 4550 3584 \nQ 5097 3584 5394 3201 \nQ 5691 2819 5691 2113 \nL 5691 0 \nL 5113 0 \nL 5113 2094 \nQ 5113 2597 4934 2840 \nQ 4756 3084 4391 3084 \nQ 3944 3084 3684 2787 \nQ 3425 2491 3425 1978 \nL 3425 0 \nL 2847 0 \nL 2847 2094 \nQ 2847 2600 2669 2842 \nQ 2491 3084 2119 3084 \nQ 1678 3084 1418 2786 \nQ 1159 2488 1159 1978 \nL 1159 0 \nL 581 0 \nL 581 3500 \nL 1159 3500 \nL 1159 2956 \nQ 1356 3278 1631 3431 \nQ 1906 3584 2284 3584 \nQ 2666 3584 2933 3390 \nQ 3200 3197 3328 2828 \nz\n\" transform=\"scale(0.015625)\"/>\n     <path id=\"DejaVuSans-61\" d=\"M 2194 1759 \nQ 1497 1759 1228 1600 \nQ 959 1441 959 1056 \nQ 959 750 1161 570 \nQ 1363 391 1709 391 \nQ 2188 391 2477 730 \nQ 2766 1069 2766 1631 \nL 2766 1759 \nL 2194 1759 \nz\nM 3341 1997 \nL 3341 0 \nL 2766 0 \nL 2766 531 \nQ 2569 213 2275 61 \nQ 1981 -91 1556 -91 \nQ 1019 -91 701 211 \nQ 384 513 384 1019 \nQ 384 1609 779 1909 \nQ 1175 2209 1959 2209 \nL 2766 2209 \nL 2766 2266 \nQ 2766 2663 2505 2880 \nQ 2244 3097 1772 3097 \nQ 1472 3097 1187 3025 \nQ 903 2953 641 2809 \nL 641 3341 \nQ 956 3463 1253 3523 \nQ 1550 3584 1831 3584 \nQ 2591 3584 2966 3190 \nQ 3341 2797 3341 1997 \nz\n\" transform=\"scale(0.015625)\"/>\n     <path id=\"DejaVuSans-67\" d=\"M 2906 1791 \nQ 2906 2416 2648 2759 \nQ 2391 3103 1925 3103 \nQ 1463 3103 1205 2759 \nQ 947 2416 947 1791 \nQ 947 1169 1205 825 \nQ 1463 481 1925 481 \nQ 2391 481 2648 825 \nQ 2906 1169 2906 1791 \nz\nM 3481 434 \nQ 3481 -459 3084 -895 \nQ 2688 -1331 1869 -1331 \nQ 1566 -1331 1297 -1286 \nQ 1028 -1241 775 -1147 \nL 775 -588 \nQ 1028 -725 1275 -790 \nQ 1522 -856 1778 -856 \nQ 2344 -856 2625 -561 \nQ 2906 -266 2906 331 \nL 2906 616 \nQ 2728 306 2450 153 \nQ 2172 0 1784 0 \nQ 1141 0 747 490 \nQ 353 981 353 1791 \nQ 353 2603 747 3093 \nQ 1141 3584 1784 3584 \nQ 2172 3584 2450 3431 \nQ 2728 3278 2906 2969 \nL 2906 3500 \nL 3481 3500 \nL 3481 434 \nz\n\" transform=\"scale(0.015625)\"/>\n     <path id=\"DejaVuSans-65\" d=\"M 3597 1894 \nL 3597 1613 \nL 953 1613 \nQ 991 1019 1311 708 \nQ 1631 397 2203 397 \nQ 2534 397 2845 478 \nQ 3156 559 3463 722 \nL 3463 178 \nQ 3153 47 2828 -22 \nQ 2503 -91 2169 -91 \nQ 1331 -91 842 396 \nQ 353 884 353 1716 \nQ 353 2575 817 3079 \nQ 1281 3584 2069 3584 \nQ 2775 3584 3186 3129 \nQ 3597 2675 3597 1894 \nz\nM 3022 2063 \nQ 3016 2534 2758 2815 \nQ 2500 3097 2075 3097 \nQ 1594 3097 1305 2825 \nQ 1016 2553 972 2059 \nL 3022 2063 \nz\n\" transform=\"scale(0.015625)\"/>\n     <path id=\"DejaVuSans-73\" d=\"M 2834 3397 \nL 2834 2853 \nQ 2591 2978 2328 3040 \nQ 2066 3103 1784 3103 \nQ 1356 3103 1142 2972 \nQ 928 2841 928 2578 \nQ 928 2378 1081 2264 \nQ 1234 2150 1697 2047 \nL 1894 2003 \nQ 2506 1872 2764 1633 \nQ 3022 1394 3022 966 \nQ 3022 478 2636 193 \nQ 2250 -91 1575 -91 \nQ 1294 -91 989 -36 \nQ 684 19 347 128 \nL 347 722 \nQ 666 556 975 473 \nQ 1284 391 1588 391 \nQ 1994 391 2212 530 \nQ 2431 669 2431 922 \nQ 2431 1156 2273 1281 \nQ 2116 1406 1581 1522 \nL 1381 1569 \nQ 847 1681 609 1914 \nQ 372 2147 372 2553 \nQ 372 3047 722 3315 \nQ 1072 3584 1716 3584 \nQ 2034 3584 2315 3537 \nQ 2597 3491 2834 3397 \nz\n\" transform=\"scale(0.015625)\"/>\n     <path id=\"DejaVuSans-20\" transform=\"scale(0.015625)\"/>\n     <path id=\"DejaVuSans-69\" d=\"M 603 3500 \nL 1178 3500 \nL 1178 0 \nL 603 0 \nL 603 3500 \nz\nM 603 4863 \nL 1178 4863 \nL 1178 4134 \nL 603 4134 \nL 603 4863 \nz\n\" transform=\"scale(0.015625)\"/>\n     <path id=\"DejaVuSans-6e\" d=\"M 3513 2113 \nL 3513 0 \nL 2938 0 \nL 2938 2094 \nQ 2938 2591 2744 2837 \nQ 2550 3084 2163 3084 \nQ 1697 3084 1428 2787 \nQ 1159 2491 1159 1978 \nL 1159 0 \nL 581 0 \nL 581 3500 \nL 1159 3500 \nL 1159 2956 \nQ 1366 3272 1645 3428 \nQ 1925 3584 2291 3584 \nQ 2894 3584 3203 3211 \nQ 3513 2838 3513 2113 \nz\n\" transform=\"scale(0.015625)\"/>\n     <path id=\"DejaVuSans-70\" d=\"M 1159 525 \nL 1159 -1331 \nL 581 -1331 \nL 581 3500 \nL 1159 3500 \nL 1159 2969 \nQ 1341 3281 1617 3432 \nQ 1894 3584 2278 3584 \nQ 2916 3584 3314 3078 \nQ 3713 2572 3713 1747 \nQ 3713 922 3314 415 \nQ 2916 -91 2278 -91 \nQ 1894 -91 1617 61 \nQ 1341 213 1159 525 \nz\nM 3116 1747 \nQ 3116 2381 2855 2742 \nQ 2594 3103 2138 3103 \nQ 1681 3103 1420 2742 \nQ 1159 2381 1159 1747 \nQ 1159 1113 1420 752 \nQ 1681 391 2138 391 \nQ 2594 391 2855 752 \nQ 3116 1113 3116 1747 \nz\n\" transform=\"scale(0.015625)\"/>\n     <path id=\"DejaVuSans-75\" d=\"M 544 1381 \nL 544 3500 \nL 1119 3500 \nL 1119 1403 \nQ 1119 906 1312 657 \nQ 1506 409 1894 409 \nQ 2359 409 2629 706 \nQ 2900 1003 2900 1516 \nL 2900 3500 \nL 3475 3500 \nL 3475 0 \nL 2900 0 \nL 2900 538 \nQ 2691 219 2414 64 \nQ 2138 -91 1772 -91 \nQ 1169 -91 856 284 \nQ 544 659 544 1381 \nz\nM 1991 3584 \nL 1991 3584 \nz\n\" transform=\"scale(0.015625)\"/>\n     <path id=\"DejaVuSans-74\" d=\"M 1172 4494 \nL 1172 3500 \nL 2356 3500 \nL 2356 3053 \nL 1172 3053 \nL 1172 1153 \nQ 1172 725 1289 603 \nQ 1406 481 1766 481 \nL 2356 481 \nL 2356 0 \nL 1766 0 \nQ 1100 0 847 248 \nQ 594 497 594 1153 \nL 594 3053 \nL 172 3053 \nL 172 3500 \nL 594 3500 \nL 594 4494 \nL 1172 4494 \nz\n\" transform=\"scale(0.015625)\"/>\n     <path id=\"DejaVuSans-71\" d=\"M 947 1747 \nQ 947 1113 1208 752 \nQ 1469 391 1925 391 \nQ 2381 391 2643 752 \nQ 2906 1113 2906 1747 \nQ 2906 2381 2643 2742 \nQ 2381 3103 1925 3103 \nQ 1469 3103 1208 2742 \nQ 947 2381 947 1747 \nz\nM 2906 525 \nQ 2725 213 2448 61 \nQ 2172 -91 1784 -91 \nQ 1150 -91 751 415 \nQ 353 922 353 1747 \nQ 353 2572 751 3078 \nQ 1150 3584 1784 3584 \nQ 2172 3584 2448 3432 \nQ 2725 3281 2906 2969 \nL 2906 3500 \nL 3481 3500 \nL 3481 -1331 \nL 2906 -1331 \nL 2906 525 \nz\n\" transform=\"scale(0.015625)\"/>\n     <path id=\"DejaVuSans-63\" d=\"M 3122 3366 \nL 3122 2828 \nQ 2878 2963 2633 3030 \nQ 2388 3097 2138 3097 \nQ 1578 3097 1268 2742 \nQ 959 2388 959 1747 \nQ 959 1106 1268 751 \nQ 1578 397 2138 397 \nQ 2388 397 2633 464 \nQ 2878 531 3122 666 \nL 3122 134 \nQ 2881 22 2623 -34 \nQ 2366 -91 2075 -91 \nQ 1284 -91 818 406 \nQ 353 903 353 1747 \nQ 353 2603 823 3093 \nQ 1294 3584 2113 3584 \nQ 2378 3584 2631 3529 \nQ 2884 3475 3122 3366 \nz\n\" transform=\"scale(0.015625)\"/>\n     <path id=\"DejaVuSans-6f\" d=\"M 1959 3097 \nQ 1497 3097 1228 2736 \nQ 959 2375 959 1747 \nQ 959 1119 1226 758 \nQ 1494 397 1959 397 \nQ 2419 397 2687 759 \nQ 2956 1122 2956 1747 \nQ 2956 2369 2687 2733 \nQ 2419 3097 1959 3097 \nz\nM 1959 3584 \nQ 2709 3584 3137 3096 \nQ 3566 2609 3566 1747 \nQ 3566 888 3137 398 \nQ 2709 -91 1959 -91 \nQ 1206 -91 779 398 \nQ 353 888 353 1747 \nQ 353 2609 779 3096 \nQ 1206 3584 1959 3584 \nz\n\" transform=\"scale(0.015625)\"/>\n     <path id=\"DejaVuSans-66\" d=\"M 2375 4863 \nL 2375 4384 \nL 1825 4384 \nQ 1516 4384 1395 4259 \nQ 1275 4134 1275 3809 \nL 1275 3500 \nL 2222 3500 \nL 2222 3053 \nL 1275 3053 \nL 1275 0 \nL 697 0 \nL 697 3053 \nL 147 3053 \nL 147 3500 \nL 697 3500 \nL 697 3744 \nQ 697 4328 969 4595 \nQ 1241 4863 1831 4863 \nL 2375 4863 \nz\n\" transform=\"scale(0.015625)\"/>\n     <path id=\"DejaVuSans-68\" d=\"M 3513 2113 \nL 3513 0 \nL 2938 0 \nL 2938 2094 \nQ 2938 2591 2744 2837 \nQ 2550 3084 2163 3084 \nQ 1697 3084 1428 2787 \nQ 1159 2491 1159 1978 \nL 1159 0 \nL 581 0 \nL 581 4863 \nL 1159 4863 \nL 1159 2956 \nQ 1366 3272 1645 3428 \nQ 1925 3584 2291 3584 \nQ 2894 3584 3203 3211 \nQ 3513 2838 3513 2113 \nz\n\" transform=\"scale(0.015625)\"/>\n    </defs>\n    <use xlink:href=\"#DejaVuSans-49\"/>\n    <use xlink:href=\"#DejaVuSans-6d\" x=\"29.492188\"/>\n    <use xlink:href=\"#DejaVuSans-61\" x=\"126.904297\"/>\n    <use xlink:href=\"#DejaVuSans-67\" x=\"188.183594\"/>\n    <use xlink:href=\"#DejaVuSans-65\" x=\"251.660156\"/>\n    <use xlink:href=\"#DejaVuSans-73\" x=\"313.183594\"/>\n    <use xlink:href=\"#DejaVuSans-20\" x=\"365.283203\"/>\n    <use xlink:href=\"#DejaVuSans-61\" x=\"397.070312\"/>\n    <use xlink:href=\"#DejaVuSans-73\" x=\"458.349609\"/>\n    <use xlink:href=\"#DejaVuSans-20\" x=\"510.449219\"/>\n    <use xlink:href=\"#DejaVuSans-69\" x=\"542.236328\"/>\n    <use xlink:href=\"#DejaVuSans-6e\" x=\"570.019531\"/>\n    <use xlink:href=\"#DejaVuSans-70\" x=\"633.398438\"/>\n    <use xlink:href=\"#DejaVuSans-75\" x=\"696.875\"/>\n    <use xlink:href=\"#DejaVuSans-74\" x=\"760.253906\"/>\n    <use xlink:href=\"#DejaVuSans-20\" x=\"799.462891\"/>\n    <use xlink:href=\"#DejaVuSans-73\" x=\"831.25\"/>\n    <use xlink:href=\"#DejaVuSans-65\" x=\"883.349609\"/>\n    <use xlink:href=\"#DejaVuSans-71\" x=\"944.873047\"/>\n    <use xlink:href=\"#DejaVuSans-75\" x=\"1008.349609\"/>\n    <use xlink:href=\"#DejaVuSans-65\" x=\"1071.728516\"/>\n    <use xlink:href=\"#DejaVuSans-6e\" x=\"1133.251953\"/>\n    <use xlink:href=\"#DejaVuSans-63\" x=\"1196.630859\"/>\n    <use xlink:href=\"#DejaVuSans-65\" x=\"1251.611328\"/>\n    <use xlink:href=\"#DejaVuSans-73\" x=\"1313.134766\"/>\n    <use xlink:href=\"#DejaVuSans-20\" x=\"1365.234375\"/>\n    <use xlink:href=\"#DejaVuSans-6f\" x=\"1397.021484\"/>\n    <use xlink:href=\"#DejaVuSans-66\" x=\"1458.203125\"/>\n    <use xlink:href=\"#DejaVuSans-20\" x=\"1493.408203\"/>\n    <use xlink:href=\"#DejaVuSans-70\" x=\"1525.195312\"/>\n    <use xlink:href=\"#DejaVuSans-61\" x=\"1588.671875\"/>\n    <use xlink:href=\"#DejaVuSans-74\" x=\"1649.951172\"/>\n    <use xlink:href=\"#DejaVuSans-63\" x=\"1689.160156\"/>\n    <use xlink:href=\"#DejaVuSans-68\" x=\"1744.140625\"/>\n    <use xlink:href=\"#DejaVuSans-65\" x=\"1807.519531\"/>\n    <use xlink:href=\"#DejaVuSans-73\" x=\"1869.042969\"/>\n   </g>\n  </g>\n </g>\n <defs>\n  <clipPath id=\"p28ec9466d0\">\n   <rect x=\"68.178872\" y=\"28.8\" width=\"133.77913\" height=\"36.156522\"/>\n  </clipPath>\n  <clipPath id=\"p23059e254d\">\n   <rect x=\"68.178872\" y=\"72.187826\" width=\"133.77913\" height=\"36.156522\"/>\n  </clipPath>\n  <clipPath id=\"p960f969f18\">\n   <rect x=\"68.178872\" y=\"115.575652\" width=\"133.77913\" height=\"36.156522\"/>\n  </clipPath>\n  <clipPath id=\"pae6afbb3ec\">\n   <rect x=\"68.178872\" y=\"158.963478\" width=\"133.77913\" height=\"36.156522\"/>\n  </clipPath>\n </defs>\n</svg>\n",
            "application/pdf": "[encoded data removed]"
          },
          "metadata": {}
        }
      ],
      "source": [
        "img_patches = img_to_patch(CIFAR_images, patch_size=16, flatten_channels=False)\n",
        "\n",
        "fig, ax = plt.subplots(CIFAR_images.shape[0], 1, figsize=(14,3))\n",
        "fig.suptitle(\"Images as input sequences of patches\")\n",
        "for i in range(CIFAR_images.shape[0]):\n",
        "    img_grid = torchvision.utils.make_grid(img_patches[i], nrow=64, normalize=True, pad_value=0.9)\n",
        "    img_grid = img_grid.permute(1, 2, 0)\n",
        "    ax[i].imshow(img_grid)\n",
        "    ax[i].axis('off')\n",
        "plt.show()\n",
        "plt.close()"
      ]
    },
    {
      "cell_type": "code",
      "source": [
        "z = torchvision.utils.make_grid(img_patches[0,0], nrow=1, normalize=True, pad_value=0.9).permute(1,2,0)\n",
        "plt.rcParams[\"figure.figsize\"] = (0.5,0.5)\n",
        "plt.imshow(z)\n",
        "plt.axis('off')\n",
        "plt.show()"
      ],
      "metadata": {
        "colab": {
          "base_uri": "https://localhost:8080/",
          "height": 78
        },
        "id": "-sCQ6hDves94",
        "outputId": "144f5011-9f17-4e4d-94e2-3dff854309d7"
      },
      "execution_count": 41,
      "outputs": [
        {
          "output_type": "display_data",
          "data": {
            "text/plain": [
              "<Figure size 50x50 with 1 Axes>"
            ],
            "image/svg+xml": "<?xml version=\"1.0\" encoding=\"utf-8\" standalone=\"no\"?>\n<!DOCTYPE svg PUBLIC \"-//W3C//DTD SVG 1.1//EN\"\n  \"http://www.w3.org/Graphics/SVG/1.1/DTD/svg11.dtd\">\n<svg xmlns:xlink=\"http://www.w3.org/1999/xlink\" width=\"42.12pt\" height=\"42.12pt\" viewBox=\"0 0 42.12 42.12\" xmlns=\"http://www.w3.org/2000/svg\" version=\"1.1\">\n <metadata>\n  <rdf:RDF xmlns:dc=\"http://purl.org/dc/elements/1.1/\" xmlns:cc=\"http://creativecommons.org/ns#\" xmlns:rdf=\"http://www.w3.org/1999/02/22-rdf-syntax-ns#\">\n   <cc:Work>\n    <dc:type rdf:resource=\"http://purl.org/dc/dcmitype/StillImage\"/>\n    <dc:date>2023-12-12T06:20:13.383489</dc:date>\n    <dc:format>image/svg+xml</dc:format>\n    <dc:creator>\n     <cc:Agent>\n      <dc:title>Matplotlib v3.7.1, https://matplotlib.org/</dc:title>\n     </cc:Agent>\n    </dc:creator>\n   </cc:Work>\n  </rdf:RDF>\n </metadata>\n <defs>\n  <style type=\"text/css\">*{stroke-linejoin: round; stroke-linecap: butt}</style>\n </defs>\n <g id=\"figure_1\">\n  <g id=\"patch_1\">\n   <path d=\"M 0 42.12 \nL 42.12 42.12 \nL 42.12 0 \nL 0 0 \nz\n\" style=\"fill: #ffffff\"/>\n  </g>\n  <g id=\"axes_1\">\n   <g clip-path=\"url(#p388b50fe89)\">\n    <image xlink:href=\"data:image/png;base64,\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\" id=\"image38cbe98cf6\" transform=\"scale(1 -1) translate(0 -28.08)\" x=\"7.2\" y=\"-6.84\" width=\"28.08\" height=\"28.08\"/>\n   </g>\n  </g>\n </g>\n <defs>\n  <clipPath id=\"p388b50fe89\">\n   <rect x=\"7.2\" y=\"7.2\" width=\"27.72\" height=\"27.72\"/>\n  </clipPath>\n </defs>\n</svg>\n",
            "application/pdf": "[encoded data removed]"
          },
          "metadata": {}
        }
      ]
    },
    {
      "cell_type": "markdown",
      "metadata": {
        "id": "gDlCKzZPmgpH"
      },
      "source": [
        "Compared to the original images, it is much harder to recognize the objects from those patch lists now. Still, this is the input we provide to the Transformer for classifying the images. The model has to learn itself how it has to combine the patches to recognize the objects. The inductive bias in CNNs that an image is a grid of pixels, is lost in this input format.\n",
        "\n",
        "After we have looked at the preprocessing, we can now start building the Transformer model. Since we have discussed the fundamentals of Multi-Head Attention in [Tutorial 6](https://uvadlc-notebooks.readthedocs.io/en/latest/tutorial_notebooks/tutorial6/Transformers_and_MHAttention.html), we will use the PyTorch module `nn.MultiheadAttention` ([docs](https://pytorch.org/docs/stable/generated/torch.nn.MultiheadAttention.html?highlight=multihead#torch.nn.MultiheadAttention)) here. Further, we use the Pre-Layer Normalization version of the Transformer blocks proposed by [Ruibin Xiong et al.](http://proceedings.mlr.press/v119/xiong20b/xiong20b.pdf) in 2020. The idea is to apply Layer Normalization not in between residual blocks, but instead as a first layer in the residual blocks. This reorganization of the layers supports better gradient flow and removes the necessity of a warm-up stage. A visualization of the difference between the standard Post-LN and the Pre-LN version is shown below.\n",
        "\n",
        "<center width=\"100%\"><img src=\"https://github.com/sandeeppalakkal/uvadlc_notebooks/blob/master/docs/tutorial_notebooks/tutorial15/pre_layer_norm.svg?raw=1\" width=\"400px\"></center>\n",
        "\n",
        "The implementation of the Pre-LN attention block looks as follows:"
      ]
    },
    {
      "cell_type": "code",
      "execution_count": 43,
      "metadata": {
        "id": "8llco54lmgpI"
      },
      "outputs": [],
      "source": [
        "class AttentionBlock(nn.Module):\n",
        "\n",
        "    def __init__(self, embed_dim, hidden_dim, num_heads, dropout=0.0):\n",
        "        \"\"\"\n",
        "        Inputs:\n",
        "            embed_dim - Dimensionality of input and attention feature vectors\n",
        "            hidden_dim - Dimensionality of hidden layer in feed-forward network\n",
        "                         (usually 2-4x larger than embed_dim)\n",
        "            num_heads - Number of heads to use in the Multi-Head Attention block\n",
        "            dropout - Amount of dropout to apply in the feed-forward network\n",
        "        \"\"\"\n",
        "        super().__init__()\n",
        "\n",
        "        self.layer_norm_1 = nn.LayerNorm(embed_dim)\n",
        "        self.attn = nn.MultiheadAttention(embed_dim, num_heads,\n",
        "                                          dropout=dropout)\n",
        "        self.layer_norm_2 = nn.LayerNorm(embed_dim)\n",
        "        self.linear = nn.Sequential(\n",
        "            nn.Linear(embed_dim, hidden_dim),\n",
        "            nn.GELU(),\n",
        "            nn.Dropout(dropout),\n",
        "            nn.Linear(hidden_dim, embed_dim),\n",
        "            nn.Dropout(dropout)\n",
        "        )\n",
        "\n",
        "\n",
        "    def forward(self, x):\n",
        "        inp_x = self.layer_norm_1(x)\n",
        "        # sp_note: attn takes query, key and value as inputs\n",
        "        # sp_note: in encoder, all three are the same as input\n",
        "        x = x + self.attn(inp_x, inp_x, inp_x)[0]\n",
        "        x = x + self.linear(self.layer_norm_2(x))\n",
        "        return x"
      ]
    },
    {
      "cell_type": "markdown",
      "metadata": {
        "id": "q3sCz8wXmgpI"
      },
      "source": [
        "Now we have all modules ready to build our own Vision Transformer. Besides the Transformer encoder, we need the following modules:\n",
        "\n",
        "* A **linear projection** layer that maps the input patches to a feature vector of larger size. It is implemented by a simple linear layer that takes each $M\\times M$ patch independently as input.\n",
        "* A **classification token** that is added to the input sequence. We will use the output feature vector of the classification token (CLS token in short) for determining the classification prediction.\n",
        "* Learnable **positional encodings** that are added to the tokens before being processed by the Transformer. Those are needed to learn position-dependent information, and convert the set to a sequence. Since we usually work with a fixed resolution, we can learn the positional encodings instead of having the pattern of sine and cosine functions.\n",
        "* An **MLP head** that takes the output feature vector of the CLS token, and maps it to a classification prediction. This is usually implemented by a small feed-forward network or even a single linear layer.\n",
        "\n",
        "With those components in mind, let's implement the full Vision Transformer below:"
      ]
    },
    {
      "cell_type": "code",
      "execution_count": 56,
      "metadata": {
        "id": "fU36XWHzmgpI"
      },
      "outputs": [],
      "source": [
        "class VisionTransformer(nn.Module):\n",
        "\n",
        "    def __init__(self, embed_dim, hidden_dim, num_channels, num_heads, num_layers, num_classes, patch_size, num_patches, dropout=0.0):\n",
        "        \"\"\"\n",
        "        Inputs:\n",
        "            embed_dim - Dimensionality of the input feature vectors to the Transformer\n",
        "            hidden_dim - Dimensionality of the hidden layer in the feed-forward networks\n",
        "                         within the Transformer\n",
        "            num_channels - Number of channels of the input (3 for RGB)\n",
        "            num_heads - Number of heads to use in the Multi-Head Attention block\n",
        "            num_layers - Number of layers to use in the Transformer\n",
        "            num_classes - Number of classes to predict\n",
        "            patch_size - Number of pixels that the patches have per dimension\n",
        "            num_patches - Maximum number of patches an image can have\n",
        "            dropout - Amount of dropout to apply in the feed-forward network and\n",
        "                      on the input encoding\n",
        "        \"\"\"\n",
        "        super().__init__()\n",
        "\n",
        "        self.patch_size = patch_size\n",
        "\n",
        "        # Layers/Networks\n",
        "        self.input_layer = nn.Linear(num_channels*(patch_size**2), embed_dim)\n",
        "        self.transformer = nn.Sequential(*[AttentionBlock(embed_dim, hidden_dim, num_heads, dropout=dropout) for _ in range(num_layers)])\n",
        "        self.mlp_head = nn.Sequential(\n",
        "            nn.LayerNorm(embed_dim),\n",
        "            nn.Linear(embed_dim, num_classes)\n",
        "        )\n",
        "        self.dropout = nn.Dropout(dropout)\n",
        "\n",
        "        # Parameters/Embeddings\n",
        "        self.cls_token = nn.Parameter(torch.randn(1,1,embed_dim))\n",
        "        self.pos_embedding = nn.Parameter(torch.randn(1,1+num_patches,embed_dim))\n",
        "        # sp_note: Note how the above two lines uses nn.Parameter to define learnable tensors\n",
        "        # Position Embedding and CLS token are learned during the training\n",
        "\n",
        "\n",
        "    def forward(self, x):\n",
        "        # Preprocess input\n",
        "        # sp_note: x : [B, C, H, W]\n",
        "        x = img_to_patch(x, self.patch_size)\n",
        "        # sp_note: now, x : [B, H*W//patch_size*patch_size, C*patch_size*patch_size]\n",
        "        # sp_note: So, T = H*W//patch_size*patch_size --> sequence length or num_patches\n",
        "        B, T, _ = x.shape\n",
        "        x = self.input_layer(x)\n",
        "        # sp_note: now, x : [B, H*W//patch_size*patch_size, embed_dim]\n",
        "\n",
        "        # Add CLS token and positional encoding\n",
        "        # sp_note: self.cls_token : [1,1,embed_dim]\n",
        "        cls_token = self.cls_token.repeat(B, 1, 1)\n",
        "        # sp_note: now cls_token : [B,1,embed_dim]\n",
        "        x = torch.cat([cls_token, x], dim=1)\n",
        "        # sp_note: now, x : [B, 1+H*W//patch_size*patch_size, embed_dim]\n",
        "        # sp_note: self.pos_embedding : [1, 1+H*W//patch_size*patch_size, embed_dim]\n",
        "        x = x + self.pos_embedding[:,:T+1]\n",
        "\n",
        "        # Apply Transforrmer\n",
        "        x = self.dropout(x)\n",
        "        # sp_note: now, x : [B, 1+H*W//patch_size*patch_size, embed_dim]\n",
        "        x = x.transpose(0, 1)\n",
        "        # sp_note: now, x : [1+H*W//patch_size*patch_size, B, embed_dim]\n",
        "        x = self.transformer(x)\n",
        "\n",
        "        # Perform classification prediction\n",
        "        cls = x[0]\n",
        "        # sp_note: now, cls : [B, embed_dim]\n",
        "        out = self.mlp_head(cls)\n",
        "        # sp_note: now, out : [B, num_classes]\n",
        "        return out"
      ]
    },
    {
      "cell_type": "markdown",
      "metadata": {
        "id": "v6suyrgkmgpJ"
      },
      "source": [
        "Finally, we can put everything into a PyTorch Lightning Module as usual. We use `torch.optim.AdamW` as the optimizer, which is Adam with a corrected weight decay implementation. Since we use the Pre-LN Transformer version, we do not need to use a learning rate warmup stage anymore. Instead, we use the same learning rate scheduler as the CNNs in our previous tutorial on image classification."
      ]
    },
    {
      "cell_type": "code",
      "execution_count": 45,
      "metadata": {
        "id": "Fm3TQU2zmgpJ"
      },
      "outputs": [],
      "source": [
        "class ViT(pl.LightningModule):\n",
        "\n",
        "    def __init__(self, model_kwargs, lr):\n",
        "        super().__init__()\n",
        "        self.save_hyperparameters()\n",
        "        self.model = VisionTransformer(**model_kwargs)\n",
        "        self.example_input_array = next(iter(train_loader))[0]\n",
        "\n",
        "    def forward(self, x):\n",
        "        return self.model(x)\n",
        "\n",
        "    def configure_optimizers(self):\n",
        "        optimizer = optim.AdamW(self.parameters(), lr=self.hparams.lr)\n",
        "        lr_scheduler = optim.lr_scheduler.MultiStepLR(optimizer, milestones=[100,150], gamma=0.1)\n",
        "        return [optimizer], [lr_scheduler]\n",
        "\n",
        "    def _calculate_loss(self, batch, mode=\"train\"):\n",
        "        imgs, labels = batch\n",
        "        preds = self.model(imgs)\n",
        "        loss = F.cross_entropy(preds, labels)\n",
        "        acc = (preds.argmax(dim=-1) == labels).float().mean()\n",
        "\n",
        "        self.log(f'{mode}_loss', loss)\n",
        "        self.log(f'{mode}_acc', acc)\n",
        "        return loss\n",
        "\n",
        "    def training_step(self, batch, batch_idx):\n",
        "        loss = self._calculate_loss(batch, mode=\"train\")\n",
        "        return loss\n",
        "\n",
        "    def validation_step(self, batch, batch_idx):\n",
        "        self._calculate_loss(batch, mode=\"val\")\n",
        "\n",
        "    def test_step(self, batch, batch_idx):\n",
        "        self._calculate_loss(batch, mode=\"test\")"
      ]
    },
    {
      "cell_type": "markdown",
      "metadata": {
        "id": "6DVFnwiImgpJ"
      },
      "source": [
        "## Experiments\n",
        "\n",
        "Commonly, Vision Transformers are applied to large-scale image classification benchmarks such as ImageNet to leverage their full potential. However, here we take a step back and ask: can Vision Transformer also succeed on classical, small benchmarks such as CIFAR10? To find this out, we train a Vision Transformer from scratch on the CIFAR10 dataset. Let's first create a training function for our PyTorch Lightning module which also loads the pre-trained model if you have downloaded it above."
      ]
    },
    {
      "cell_type": "code",
      "execution_count": 46,
      "metadata": {
        "id": "adJjnDYUmgpJ"
      },
      "outputs": [],
      "source": [
        "def train_model(**kwargs):\n",
        "    trainer = pl.Trainer(default_root_dir=os.path.join(CHECKPOINT_PATH, \"ViT\"),\n",
        "                         accelerator=\"gpu\" if str(device).startswith(\"cuda\") else \"cpu\",\n",
        "                         devices=1,\n",
        "                         max_epochs=180,\n",
        "                         callbacks=[ModelCheckpoint(save_weights_only=True, mode=\"max\", monitor=\"val_acc\"),\n",
        "                                    LearningRateMonitor(\"epoch\")])\n",
        "    trainer.logger._log_graph = True         # If True, we plot the computation graph in tensorboard\n",
        "    trainer.logger._default_hp_metric = None # Optional logging argument that we don't need\n",
        "\n",
        "    # Check whether pretrained model exists. If yes, load it and skip training\n",
        "    pretrained_filename = os.path.join(CHECKPOINT_PATH, \"ViT.ckpt\")\n",
        "    if os.path.isfile(pretrained_filename):\n",
        "        print(f\"Found pretrained model at {pretrained_filename}, loading...\")\n",
        "        model = ViT.load_from_checkpoint(pretrained_filename) # Automatically loads the model with the saved hyperparameters\n",
        "    else:\n",
        "        pl.seed_everything(42) # To be reproducable\n",
        "        model = ViT(**kwargs)\n",
        "        trainer.fit(model, train_loader, val_loader)\n",
        "        model = ViT.load_from_checkpoint(trainer.checkpoint_callback.best_model_path) # Load best checkpoint after training\n",
        "\n",
        "    # Test best model on validation and test set\n",
        "    val_result = trainer.test(model, val_loader, verbose=False)\n",
        "    test_result = trainer.test(model, test_loader, verbose=False)\n",
        "    result = {\"test\": test_result[0][\"test_acc\"], \"val\": val_result[0][\"test_acc\"]}\n",
        "\n",
        "    return model, result"
      ]
    },
    {
      "cell_type": "markdown",
      "metadata": {
        "id": "jbVcu7TNmgpK"
      },
      "source": [
        "Now, we can already start training our model. As seen in our implementation, we have a couple of hyperparameters that we have to set. When creating this notebook, we have performed a small grid search over hyperparameters and listed the best hyperparameters in the cell below. Nevertheless, it is worth discussing the influence that each hyperparameter has, and what intuition we have for choosing its value.\n",
        "\n",
        "First, let's consider the patch size. The smaller we make the patches, the longer the input sequences to the Transformer become. While in general, this allows the Transformer to model more complex functions, it requires a longer computation time due to its quadratic memory usage in the attention layer. Furthermore, small patches can make the task more difficult since the Transformer has to learn which patches are close-by, and which are far away. We experimented with patch sizes of 2, 4, and 8 which gives us the input sequence lengths of 256, 64, and 16 respectively. We found 4 to result in the best performance and hence pick it below.\n",
        "\n",
        "Next, the embedding and hidden dimensionality have a similar impact on a Transformer as to an MLP. The larger the sizes, the more complex the model becomes, and the longer it takes to train. In Transformers, however, we have one more aspect to consider: the query-key sizes in the Multi-Head Attention layers. Each key has the feature dimensionality of `embed_dim/num_heads`. Considering that we have an input sequence length of 64, a minimum reasonable size for the key vectors is 16 or 32. Lower dimensionalities can restrain the possible attention maps too much. We observed that more than 8 heads are not necessary for the Transformer, and therefore pick an embedding dimensionality of `256`. The hidden dimensionality in the feed-forward networks is usually 2-4x larger than the embedding dimensionality, and thus we pick `512`.\n",
        "\n",
        "Finally, the learning rate for Transformers is usually relatively small, and in papers, a common value to use is 3e-5. However, since we work with a smaller dataset and have a potentially easier task, we found that we are able to increase the learning rate to 3e-4 without any problems. To reduce overfitting, we use a dropout value of 0.2. Remember that we also use small image augmentations as regularization during training.\n",
        "\n",
        "Feel free to explore the hyperparameters yourself by changing the values below. In general, the Vision Transformer did not show to be too sensitive to the hyperparameter choices on the CIFAR10 dataset."
      ]
    },
    {
      "cell_type": "code",
      "execution_count": 57,
      "metadata": {
        "colab": {
          "base_uri": "https://localhost:8080/",
          "height": 223,
          "referenced_widgets": [
            "20d088470a894ba2a87fae48c06949bf",
            "e32a57a5c27d4a279ded57a31cd0b851",
            "fb9fbbbac67c4de19866c61ad72308bf",
            "bce6d5baa688432bb6471748e5bb3c3d",
            "5bc3d8c6b9a64cc38ac99b12b7224bc4",
            "c5d0c0e8dd1d4d169196c0a3bdf9a376",
            "02a457c96d0d4bd59bb51ac03496b1dd",
            "3f35f3b5fdd1435099f29332d0156874",
            "28236f490eed4c75ac3e3b59006f3dd8",
            "9153b8358a4f488580e8f589593be21a",
            "684e151b568347459b554be7019218da",
            "5477e0eb43944756adf88f0261daf576",
            "7324f1b4d7d44321af9bc3e322d440cf",
            "bacbc545a90347e9b036475985735cc5",
            "a6282a7f25e5494da6fdd278d7310ccd",
            "e82cbe863be54ce691d18cbb0f58f317",
            "af5f22abdf954fa48db0ebac9bb6e90a",
            "958f105d0b39431eac3283f14c8d7803",
            "0e8f39f5323042359fa647683a0e6071",
            "3f63eb281e044654ad6ac3ea1c794c40",
            "1e2012fe598543969bb91eb3449ae1ef",
            "8fd03eaeced643cc91188123ea8850d7"
          ]
        },
        "id": "y1yDs0dRmgpK",
        "outputId": "64e819b1-5279-4274-b550-e8bcc1aad6c2"
      },
      "outputs": [
        {
          "output_type": "stream",
          "name": "stderr",
          "text": [
            "INFO:pytorch_lightning.utilities.rank_zero:GPU available: False, used: False\n",
            "INFO:pytorch_lightning.utilities.rank_zero:TPU available: False, using: 0 TPU cores\n",
            "INFO:pytorch_lightning.utilities.rank_zero:IPU available: False, using: 0 IPUs\n",
            "INFO:pytorch_lightning.utilities.rank_zero:HPU available: False, using: 0 HPUs\n",
            "INFO:pytorch_lightning.utilities.migration.utils:Lightning automatically upgraded your loaded checkpoint from v1.6.4 to v2.1.2. To apply the upgrade to your files permanently, run `python -m pytorch_lightning.utilities.upgrade_checkpoint ../saved_models/tutorial15/ViT.ckpt`\n"
          ]
        },
        {
          "output_type": "stream",
          "name": "stdout",
          "text": [
            "Found pretrained model at ../saved_models/tutorial15/ViT.ckpt, loading...\n"
          ]
        },
        {
          "output_type": "display_data",
          "data": {
            "text/plain": [
              "Testing: |          | 0/? [00:00<?, ?it/s]"
            ],
            "application/vnd.jupyter.widget-view+json": {
              "version_major": 2,
              "version_minor": 0,
              "model_id": "20d088470a894ba2a87fae48c06949bf"
            }
          },
          "metadata": {}
        },
        {
          "output_type": "display_data",
          "data": {
            "text/plain": [
              "Testing: |          | 0/? [00:00<?, ?it/s]"
            ],
            "application/vnd.jupyter.widget-view+json": {
              "version_major": 2,
              "version_minor": 0,
              "model_id": "5477e0eb43944756adf88f0261daf576"
            }
          },
          "metadata": {}
        },
        {
          "output_type": "stream",
          "name": "stdout",
          "text": [
            "ViT results {'test': 0.7713000178337097, 'val': 0.7781999707221985}\n"
          ]
        }
      ],
      "source": [
        "model, results = train_model(model_kwargs={\n",
        "                                'embed_dim': 256,\n",
        "                                'hidden_dim': 512,\n",
        "                                'num_heads': 8,\n",
        "                                'num_layers': 6,\n",
        "                                'patch_size': 4,\n",
        "                                'num_channels': 3,\n",
        "                                'num_patches': 64,\n",
        "                                'num_classes': 10,\n",
        "                                'dropout': 0.2\n",
        "                            },\n",
        "                            lr=3e-4)\n",
        "print(\"ViT results\", results)"
      ]
    },
    {
      "cell_type": "markdown",
      "metadata": {
        "id": "sIOtYNhkmgpK"
      },
      "source": [
        "The Vision Transformer achieves a validation and test performance of about 75%. In comparison, almost all CNN architectures that we have tested in [Tutorial 5](https://uvadlc-notebooks.readthedocs.io/en/latest/tutorial_notebooks/tutorial5/Inception_ResNet_DenseNet.html) obtained a classification performance of around 90%. This is a considerable gap and shows that although Vision Transformers perform strongly on ImageNet with potential pretraining, they cannot come close to simple CNNs on CIFAR10 when being trained from scratch. The differences between a CNN and Transformer can be well observed in the training curves. Let's look at them in a tensorboard below:"
      ]
    },
    {
      "cell_type": "code",
      "execution_count": null,
      "metadata": {
        "id": "3uXEYkk_mgpL"
      },
      "outputs": [],
      "source": [
        "# Opens tensorboard in notebook. Adjust the path to your CHECKPOINT_PATH!\n",
        "%tensorboard --logdir ../saved_models/tutorial15/tensorboards/"
      ]
    },
    {
      "cell_type": "markdown",
      "metadata": {
        "id": "x0CtFIyhmgpL"
      },
      "source": [
        "<center><img src=\"https://github.com/sandeeppalakkal/uvadlc_notebooks/blob/master/docs/tutorial_notebooks/tutorial15/tensorboard_screenshot.png?raw=1\" width=\"100%\"/></center>"
      ]
    },
    {
      "cell_type": "markdown",
      "metadata": {
        "id": "KLZF6GrRmgpL"
      },
      "source": [
        "The tensorboard compares the Vision Transformer to a ResNet trained on CIFAR10. When looking at the training losses, we see that the ResNet learns much more quickly in the first iterations. While the learning rate might have an influence on the initial learning speed, we see the same trend in the validation accuracy. The ResNet achieves the best performance of the Vision Transformer after just 5 epochs (2000 iterations). Further, while the ResNet training loss and validation accuracy have a similar trend, the validation performance of the Vision Transformers only marginally changes after 10k iterations while the training loss has almost just started going down. Yet, the Vision Transformer is also able to achieve close to 100% accuracy on the training set.\n",
        "\n",
        "All those observed phenomenons can be explained with a concept that we have visited before: inductive biases. Convolutional Neural Networks have been designed with the assumption that images are translation invariant. Hence, we apply convolutions with shared filters across the image. Furthermore, a CNN architecture integrates the concept of distance in an image: two pixels that are close to each other are more related than two distant pixels. Local patterns are combined into larger patterns until we perform our classification prediction. All those aspects are inductive biases of a CNN. In contrast, a Vision Transformer does not know which two pixels are close to each other, and which are far apart. It has to learn this information solely from the sparse learning signal of the classification task. This is a huge disadvantage when we have a small dataset since such information is crucial for generalizing to an unseen test dataset. With large enough datasets and/or good pre-training, a Transformer can learn this information without the need for inductive biases, and instead is more flexible than a CNN. Especially long-distance relations between local patterns can be difficult to process in CNNs, while in Transformers, all patches have the distance of one. This is why Vision Transformers are so strong on large-scale datasets such as ImageNet but underperform a lot when being applied to a small dataset such as CIFAR10."
      ]
    },
    {
      "cell_type": "markdown",
      "metadata": {
        "id": "jZwuQxZsmgpL"
      },
      "source": [
        "## Conclusion\n",
        "\n",
        "In this tutorial, we have implemented our own Vision Transformer from scratch and applied it to the task of image classification. Vision Transformers work by splitting an image into a sequence of smaller patches, use those as input to a standard Transformer encoder. While Vision Transformers achieved outstanding results on large-scale image recognition benchmarks such as ImageNet, they considerably underperform when being trained from scratch on small-scale datasets like CIFAR10. The reason is that in contrast to CNNs, Transformers do not have the inductive biases of translation invariance and the feature hierarchy (i.e. larger patterns consist of many smaller patterns). However, these aspects can be learned when enough data is provided, or the model has been pre-trained on other large-scale tasks. Considering that Vision Transformers have just been proposed end of 2020, there is likely a lot more to come on Transformers for Computer Vision.\n",
        "\n",
        "\n",
        "### References\n",
        "\n",
        "Dosovitskiy, Alexey, et al. \"An image is worth 16x16 words: Transformers for image recognition at scale.\" International Conference on Learning Representations (2021). [link](https://arxiv.org/pdf/2010.11929.pdf)\n",
        "\n",
        "Chen, Xiangning, et al. \"When Vision Transformers Outperform ResNets without Pretraining or Strong Data Augmentations.\" arXiv preprint arXiv:2106.01548 (2021). [link](https://arxiv.org/abs/2106.01548)\n",
        "\n",
        "Tolstikhin, Ilya, et al. \"MLP-mixer: An all-MLP Architecture for Vision.\" arXiv preprint arXiv:2105.01601 (2021). [link](https://arxiv.org/abs/2105.01601)\n",
        "\n",
        "Xiong, Ruibin, et al. \"On layer normalization in the transformer architecture.\" International Conference on Machine Learning. PMLR, 2020. [link](http://proceedings.mlr.press/v119/xiong20b/xiong20b.pdf)"
      ]
    },
    {
      "cell_type": "markdown",
      "metadata": {
        "id": "SiM-kkoBmgpL"
      },
      "source": [
        "---\n",
        "\n",
        "[![Star our repository](https://img.shields.io/static/v1.svg?logo=star&label=⭐&message=Star%20Our%20Repository&color=yellow)](https://github.com/phlippe/uvadlc_notebooks/)  If you found this tutorial helpful, consider ⭐-ing our repository.    \n",
        "[![Ask questions](https://img.shields.io/static/v1.svg?logo=star&label=❔&message=Ask%20Questions&color=9cf)](https://github.com/phlippe/uvadlc_notebooks/issues)  For any questions, typos, or bugs that you found, please raise an issue on GitHub.\n",
        "\n",
        "---"
      ]
    }
  ],
  "metadata": {
    "kernelspec": {
      "display_name": "Python 3 (ipykernel)",
      "language": "python",
      "name": "python3"
    },
    "language_info": {
      "codemirror_mode": {
        "name": "ipython",
        "version": 3
      },
      "file_extension": ".py",
      "mimetype": "text/x-python",
      "name": "python",
      "nbconvert_exporter": "python",
      "pygments_lexer": "ipython3",
      "version": "3.8.2"
    },
    "colab": {
      "provenance": []
    },
    "widgets": {
      "application/vnd.jupyter.widget-state+json": {
        "20d088470a894ba2a87fae48c06949bf": {
          "model_module": "@jupyter-widgets/controls",
          "model_name": "HBoxModel",
          "model_module_version": "1.5.0",
          "state": {
            "_dom_classes": [],
            "_model_module": "@jupyter-widgets/controls",
            "_model_module_version": "1.5.0",
            "_model_name": "HBoxModel",
            "_view_count": null,
            "_view_module": "@jupyter-widgets/controls",
            "_view_module_version": "1.5.0",
            "_view_name": "HBoxView",
            "box_style": "",
            "children": [
              "IPY_MODEL_e32a57a5c27d4a279ded57a31cd0b851",
              "IPY_MODEL_fb9fbbbac67c4de19866c61ad72308bf",
              "IPY_MODEL_bce6d5baa688432bb6471748e5bb3c3d"
            ],
            "layout": "IPY_MODEL_5bc3d8c6b9a64cc38ac99b12b7224bc4"
          }
        },
        "e32a57a5c27d4a279ded57a31cd0b851": {
          "model_module": "@jupyter-widgets/controls",
          "model_name": "HTMLModel",
          "model_module_version": "1.5.0",
          "state": {
            "_dom_classes": [],
            "_model_module": "@jupyter-widgets/controls",
            "_model_module_version": "1.5.0",
            "_model_name": "HTMLModel",
            "_view_count": null,
            "_view_module": "@jupyter-widgets/controls",
            "_view_module_version": "1.5.0",
            "_view_name": "HTMLView",
            "description": "",
            "description_tooltip": null,
            "layout": "IPY_MODEL_c5d0c0e8dd1d4d169196c0a3bdf9a376",
            "placeholder": "​",
            "style": "IPY_MODEL_02a457c96d0d4bd59bb51ac03496b1dd",
            "value": "Testing DataLoader 0: 100%"
          }
        },
        "fb9fbbbac67c4de19866c61ad72308bf": {
          "model_module": "@jupyter-widgets/controls",
          "model_name": "FloatProgressModel",
          "model_module_version": "1.5.0",
          "state": {
            "_dom_classes": [],
            "_model_module": "@jupyter-widgets/controls",
            "_model_module_version": "1.5.0",
            "_model_name": "FloatProgressModel",
            "_view_count": null,
            "_view_module": "@jupyter-widgets/controls",
            "_view_module_version": "1.5.0",
            "_view_name": "ProgressView",
            "bar_style": "success",
            "description": "",
            "description_tooltip": null,
            "layout": "IPY_MODEL_3f35f3b5fdd1435099f29332d0156874",
            "max": 40,
            "min": 0,
            "orientation": "horizontal",
            "style": "IPY_MODEL_28236f490eed4c75ac3e3b59006f3dd8",
            "value": 40
          }
        },
        "bce6d5baa688432bb6471748e5bb3c3d": {
          "model_module": "@jupyter-widgets/controls",
          "model_name": "HTMLModel",
          "model_module_version": "1.5.0",
          "state": {
            "_dom_classes": [],
            "_model_module": "@jupyter-widgets/controls",
            "_model_module_version": "1.5.0",
            "_model_name": "HTMLModel",
            "_view_count": null,
            "_view_module": "@jupyter-widgets/controls",
            "_view_module_version": "1.5.0",
            "_view_name": "HTMLView",
            "description": "",
            "description_tooltip": null,
            "layout": "IPY_MODEL_9153b8358a4f488580e8f589593be21a",
            "placeholder": "​",
            "style": "IPY_MODEL_684e151b568347459b554be7019218da",
            "value": " 40/40 [01:02&lt;00:00,  0.64it/s]"
          }
        },
        "5bc3d8c6b9a64cc38ac99b12b7224bc4": {
          "model_module": "@jupyter-widgets/base",
          "model_name": "LayoutModel",
          "model_module_version": "1.2.0",
          "state": {
            "_model_module": "@jupyter-widgets/base",
            "_model_module_version": "1.2.0",
            "_model_name": "LayoutModel",
            "_view_count": null,
            "_view_module": "@jupyter-widgets/base",
            "_view_module_version": "1.2.0",
            "_view_name": "LayoutView",
            "align_content": null,
            "align_items": null,
            "align_self": null,
            "border": null,
            "bottom": null,
            "display": "inline-flex",
            "flex": null,
            "flex_flow": "row wrap",
            "grid_area": null,
            "grid_auto_columns": null,
            "grid_auto_flow": null,
            "grid_auto_rows": null,
            "grid_column": null,
            "grid_gap": null,
            "grid_row": null,
            "grid_template_areas": null,
            "grid_template_columns": null,
            "grid_template_rows": null,
            "height": null,
            "justify_content": null,
            "justify_items": null,
            "left": null,
            "margin": null,
            "max_height": null,
            "max_width": null,
            "min_height": null,
            "min_width": null,
            "object_fit": null,
            "object_position": null,
            "order": null,
            "overflow": null,
            "overflow_x": null,
            "overflow_y": null,
            "padding": null,
            "right": null,
            "top": null,
            "visibility": null,
            "width": "100%"
          }
        },
        "c5d0c0e8dd1d4d169196c0a3bdf9a376": {
          "model_module": "@jupyter-widgets/base",
          "model_name": "LayoutModel",
          "model_module_version": "1.2.0",
          "state": {
            "_model_module": "@jupyter-widgets/base",
            "_model_module_version": "1.2.0",
            "_model_name": "LayoutModel",
            "_view_count": null,
            "_view_module": "@jupyter-widgets/base",
            "_view_module_version": "1.2.0",
            "_view_name": "LayoutView",
            "align_content": null,
            "align_items": null,
            "align_self": null,
            "border": null,
            "bottom": null,
            "display": null,
            "flex": null,
            "flex_flow": null,
            "grid_area": null,
            "grid_auto_columns": null,
            "grid_auto_flow": null,
            "grid_auto_rows": null,
            "grid_column": null,
            "grid_gap": null,
            "grid_row": null,
            "grid_template_areas": null,
            "grid_template_columns": null,
            "grid_template_rows": null,
            "height": null,
            "justify_content": null,
            "justify_items": null,
            "left": null,
            "margin": null,
            "max_height": null,
            "max_width": null,
            "min_height": null,
            "min_width": null,
            "object_fit": null,
            "object_position": null,
            "order": null,
            "overflow": null,
            "overflow_x": null,
            "overflow_y": null,
            "padding": null,
            "right": null,
            "top": null,
            "visibility": null,
            "width": null
          }
        },
        "02a457c96d0d4bd59bb51ac03496b1dd": {
          "model_module": "@jupyter-widgets/controls",
          "model_name": "DescriptionStyleModel",
          "model_module_version": "1.5.0",
          "state": {
            "_model_module": "@jupyter-widgets/controls",
            "_model_module_version": "1.5.0",
            "_model_name": "DescriptionStyleModel",
            "_view_count": null,
            "_view_module": "@jupyter-widgets/base",
            "_view_module_version": "1.2.0",
            "_view_name": "StyleView",
            "description_width": ""
          }
        },
        "3f35f3b5fdd1435099f29332d0156874": {
          "model_module": "@jupyter-widgets/base",
          "model_name": "LayoutModel",
          "model_module_version": "1.2.0",
          "state": {
            "_model_module": "@jupyter-widgets/base",
            "_model_module_version": "1.2.0",
            "_model_name": "LayoutModel",
            "_view_count": null,
            "_view_module": "@jupyter-widgets/base",
            "_view_module_version": "1.2.0",
            "_view_name": "LayoutView",
            "align_content": null,
            "align_items": null,
            "align_self": null,
            "border": null,
            "bottom": null,
            "display": null,
            "flex": "2",
            "flex_flow": null,
            "grid_area": null,
            "grid_auto_columns": null,
            "grid_auto_flow": null,
            "grid_auto_rows": null,
            "grid_column": null,
            "grid_gap": null,
            "grid_row": null,
            "grid_template_areas": null,
            "grid_template_columns": null,
            "grid_template_rows": null,
            "height": null,
            "justify_content": null,
            "justify_items": null,
            "left": null,
            "margin": null,
            "max_height": null,
            "max_width": null,
            "min_height": null,
            "min_width": null,
            "object_fit": null,
            "object_position": null,
            "order": null,
            "overflow": null,
            "overflow_x": null,
            "overflow_y": null,
            "padding": null,
            "right": null,
            "top": null,
            "visibility": null,
            "width": null
          }
        },
        "28236f490eed4c75ac3e3b59006f3dd8": {
          "model_module": "@jupyter-widgets/controls",
          "model_name": "ProgressStyleModel",
          "model_module_version": "1.5.0",
          "state": {
            "_model_module": "@jupyter-widgets/controls",
            "_model_module_version": "1.5.0",
            "_model_name": "ProgressStyleModel",
            "_view_count": null,
            "_view_module": "@jupyter-widgets/base",
            "_view_module_version": "1.2.0",
            "_view_name": "StyleView",
            "bar_color": null,
            "description_width": ""
          }
        },
        "9153b8358a4f488580e8f589593be21a": {
          "model_module": "@jupyter-widgets/base",
          "model_name": "LayoutModel",
          "model_module_version": "1.2.0",
          "state": {
            "_model_module": "@jupyter-widgets/base",
            "_model_module_version": "1.2.0",
            "_model_name": "LayoutModel",
            "_view_count": null,
            "_view_module": "@jupyter-widgets/base",
            "_view_module_version": "1.2.0",
            "_view_name": "LayoutView",
            "align_content": null,
            "align_items": null,
            "align_self": null,
            "border": null,
            "bottom": null,
            "display": null,
            "flex": null,
            "flex_flow": null,
            "grid_area": null,
            "grid_auto_columns": null,
            "grid_auto_flow": null,
            "grid_auto_rows": null,
            "grid_column": null,
            "grid_gap": null,
            "grid_row": null,
            "grid_template_areas": null,
            "grid_template_columns": null,
            "grid_template_rows": null,
            "height": null,
            "justify_content": null,
            "justify_items": null,
            "left": null,
            "margin": null,
            "max_height": null,
            "max_width": null,
            "min_height": null,
            "min_width": null,
            "object_fit": null,
            "object_position": null,
            "order": null,
            "overflow": null,
            "overflow_x": null,
            "overflow_y": null,
            "padding": null,
            "right": null,
            "top": null,
            "visibility": null,
            "width": null
          }
        },
        "684e151b568347459b554be7019218da": {
          "model_module": "@jupyter-widgets/controls",
          "model_name": "DescriptionStyleModel",
          "model_module_version": "1.5.0",
          "state": {
            "_model_module": "@jupyter-widgets/controls",
            "_model_module_version": "1.5.0",
            "_model_name": "DescriptionStyleModel",
            "_view_count": null,
            "_view_module": "@jupyter-widgets/base",
            "_view_module_version": "1.2.0",
            "_view_name": "StyleView",
            "description_width": ""
          }
        },
        "5477e0eb43944756adf88f0261daf576": {
          "model_module": "@jupyter-widgets/controls",
          "model_name": "HBoxModel",
          "model_module_version": "1.5.0",
          "state": {
            "_dom_classes": [],
            "_model_module": "@jupyter-widgets/controls",
            "_model_module_version": "1.5.0",
            "_model_name": "HBoxModel",
            "_view_count": null,
            "_view_module": "@jupyter-widgets/controls",
            "_view_module_version": "1.5.0",
            "_view_name": "HBoxView",
            "box_style": "",
            "children": [
              "IPY_MODEL_7324f1b4d7d44321af9bc3e322d440cf",
              "IPY_MODEL_bacbc545a90347e9b036475985735cc5",
              "IPY_MODEL_a6282a7f25e5494da6fdd278d7310ccd"
            ],
            "layout": "IPY_MODEL_e82cbe863be54ce691d18cbb0f58f317"
          }
        },
        "7324f1b4d7d44321af9bc3e322d440cf": {
          "model_module": "@jupyter-widgets/controls",
          "model_name": "HTMLModel",
          "model_module_version": "1.5.0",
          "state": {
            "_dom_classes": [],
            "_model_module": "@jupyter-widgets/controls",
            "_model_module_version": "1.5.0",
            "_model_name": "HTMLModel",
            "_view_count": null,
            "_view_module": "@jupyter-widgets/controls",
            "_view_module_version": "1.5.0",
            "_view_name": "HTMLView",
            "description": "",
            "description_tooltip": null,
            "layout": "IPY_MODEL_af5f22abdf954fa48db0ebac9bb6e90a",
            "placeholder": "​",
            "style": "IPY_MODEL_958f105d0b39431eac3283f14c8d7803",
            "value": "Testing DataLoader 0: 100%"
          }
        },
        "bacbc545a90347e9b036475985735cc5": {
          "model_module": "@jupyter-widgets/controls",
          "model_name": "FloatProgressModel",
          "model_module_version": "1.5.0",
          "state": {
            "_dom_classes": [],
            "_model_module": "@jupyter-widgets/controls",
            "_model_module_version": "1.5.0",
            "_model_name": "FloatProgressModel",
            "_view_count": null,
            "_view_module": "@jupyter-widgets/controls",
            "_view_module_version": "1.5.0",
            "_view_name": "ProgressView",
            "bar_style": "success",
            "description": "",
            "description_tooltip": null,
            "layout": "IPY_MODEL_0e8f39f5323042359fa647683a0e6071",
            "max": 79,
            "min": 0,
            "orientation": "horizontal",
            "style": "IPY_MODEL_3f63eb281e044654ad6ac3ea1c794c40",
            "value": 79
          }
        },
        "a6282a7f25e5494da6fdd278d7310ccd": {
          "model_module": "@jupyter-widgets/controls",
          "model_name": "HTMLModel",
          "model_module_version": "1.5.0",
          "state": {
            "_dom_classes": [],
            "_model_module": "@jupyter-widgets/controls",
            "_model_module_version": "1.5.0",
            "_model_name": "HTMLModel",
            "_view_count": null,
            "_view_module": "@jupyter-widgets/controls",
            "_view_module_version": "1.5.0",
            "_view_name": "HTMLView",
            "description": "",
            "description_tooltip": null,
            "layout": "IPY_MODEL_1e2012fe598543969bb91eb3449ae1ef",
            "placeholder": "​",
            "style": "IPY_MODEL_8fd03eaeced643cc91188123ea8850d7",
            "value": " 79/79 [02:01&lt;00:00,  0.65it/s]"
          }
        },
        "e82cbe863be54ce691d18cbb0f58f317": {
          "model_module": "@jupyter-widgets/base",
          "model_name": "LayoutModel",
          "model_module_version": "1.2.0",
          "state": {
            "_model_module": "@jupyter-widgets/base",
            "_model_module_version": "1.2.0",
            "_model_name": "LayoutModel",
            "_view_count": null,
            "_view_module": "@jupyter-widgets/base",
            "_view_module_version": "1.2.0",
            "_view_name": "LayoutView",
            "align_content": null,
            "align_items": null,
            "align_self": null,
            "border": null,
            "bottom": null,
            "display": "inline-flex",
            "flex": null,
            "flex_flow": "row wrap",
            "grid_area": null,
            "grid_auto_columns": null,
            "grid_auto_flow": null,
            "grid_auto_rows": null,
            "grid_column": null,
            "grid_gap": null,
            "grid_row": null,
            "grid_template_areas": null,
            "grid_template_columns": null,
            "grid_template_rows": null,
            "height": null,
            "justify_content": null,
            "justify_items": null,
            "left": null,
            "margin": null,
            "max_height": null,
            "max_width": null,
            "min_height": null,
            "min_width": null,
            "object_fit": null,
            "object_position": null,
            "order": null,
            "overflow": null,
            "overflow_x": null,
            "overflow_y": null,
            "padding": null,
            "right": null,
            "top": null,
            "visibility": null,
            "width": "100%"
          }
        },
        "af5f22abdf954fa48db0ebac9bb6e90a": {
          "model_module": "@jupyter-widgets/base",
          "model_name": "LayoutModel",
          "model_module_version": "1.2.0",
          "state": {
            "_model_module": "@jupyter-widgets/base",
            "_model_module_version": "1.2.0",
            "_model_name": "LayoutModel",
            "_view_count": null,
            "_view_module": "@jupyter-widgets/base",
            "_view_module_version": "1.2.0",
            "_view_name": "LayoutView",
            "align_content": null,
            "align_items": null,
            "align_self": null,
            "border": null,
            "bottom": null,
            "display": null,
            "flex": null,
            "flex_flow": null,
            "grid_area": null,
            "grid_auto_columns": null,
            "grid_auto_flow": null,
            "grid_auto_rows": null,
            "grid_column": null,
            "grid_gap": null,
            "grid_row": null,
            "grid_template_areas": null,
            "grid_template_columns": null,
            "grid_template_rows": null,
            "height": null,
            "justify_content": null,
            "justify_items": null,
            "left": null,
            "margin": null,
            "max_height": null,
            "max_width": null,
            "min_height": null,
            "min_width": null,
            "object_fit": null,
            "object_position": null,
            "order": null,
            "overflow": null,
            "overflow_x": null,
            "overflow_y": null,
            "padding": null,
            "right": null,
            "top": null,
            "visibility": null,
            "width": null
          }
        },
        "958f105d0b39431eac3283f14c8d7803": {
          "model_module": "@jupyter-widgets/controls",
          "model_name": "DescriptionStyleModel",
          "model_module_version": "1.5.0",
          "state": {
            "_model_module": "@jupyter-widgets/controls",
            "_model_module_version": "1.5.0",
            "_model_name": "DescriptionStyleModel",
            "_view_count": null,
            "_view_module": "@jupyter-widgets/base",
            "_view_module_version": "1.2.0",
            "_view_name": "StyleView",
            "description_width": ""
          }
        },
        "0e8f39f5323042359fa647683a0e6071": {
          "model_module": "@jupyter-widgets/base",
          "model_name": "LayoutModel",
          "model_module_version": "1.2.0",
          "state": {
            "_model_module": "@jupyter-widgets/base",
            "_model_module_version": "1.2.0",
            "_model_name": "LayoutModel",
            "_view_count": null,
            "_view_module": "@jupyter-widgets/base",
            "_view_module_version": "1.2.0",
            "_view_name": "LayoutView",
            "align_content": null,
            "align_items": null,
            "align_self": null,
            "border": null,
            "bottom": null,
            "display": null,
            "flex": "2",
            "flex_flow": null,
            "grid_area": null,
            "grid_auto_columns": null,
            "grid_auto_flow": null,
            "grid_auto_rows": null,
            "grid_column": null,
            "grid_gap": null,
            "grid_row": null,
            "grid_template_areas": null,
            "grid_template_columns": null,
            "grid_template_rows": null,
            "height": null,
            "justify_content": null,
            "justify_items": null,
            "left": null,
            "margin": null,
            "max_height": null,
            "max_width": null,
            "min_height": null,
            "min_width": null,
            "object_fit": null,
            "object_position": null,
            "order": null,
            "overflow": null,
            "overflow_x": null,
            "overflow_y": null,
            "padding": null,
            "right": null,
            "top": null,
            "visibility": null,
            "width": null
          }
        },
        "3f63eb281e044654ad6ac3ea1c794c40": {
          "model_module": "@jupyter-widgets/controls",
          "model_name": "ProgressStyleModel",
          "model_module_version": "1.5.0",
          "state": {
            "_model_module": "@jupyter-widgets/controls",
            "_model_module_version": "1.5.0",
            "_model_name": "ProgressStyleModel",
            "_view_count": null,
            "_view_module": "@jupyter-widgets/base",
            "_view_module_version": "1.2.0",
            "_view_name": "StyleView",
            "bar_color": null,
            "description_width": ""
          }
        },
        "1e2012fe598543969bb91eb3449ae1ef": {
          "model_module": "@jupyter-widgets/base",
          "model_name": "LayoutModel",
          "model_module_version": "1.2.0",
          "state": {
            "_model_module": "@jupyter-widgets/base",
            "_model_module_version": "1.2.0",
            "_model_name": "LayoutModel",
            "_view_count": null,
            "_view_module": "@jupyter-widgets/base",
            "_view_module_version": "1.2.0",
            "_view_name": "LayoutView",
            "align_content": null,
            "align_items": null,
            "align_self": null,
            "border": null,
            "bottom": null,
            "display": null,
            "flex": null,
            "flex_flow": null,
            "grid_area": null,
            "grid_auto_columns": null,
            "grid_auto_flow": null,
            "grid_auto_rows": null,
            "grid_column": null,
            "grid_gap": null,
            "grid_row": null,
            "grid_template_areas": null,
            "grid_template_columns": null,
            "grid_template_rows": null,
            "height": null,
            "justify_content": null,
            "justify_items": null,
            "left": null,
            "margin": null,
            "max_height": null,
            "max_width": null,
            "min_height": null,
            "min_width": null,
            "object_fit": null,
            "object_position": null,
            "order": null,
            "overflow": null,
            "overflow_x": null,
            "overflow_y": null,
            "padding": null,
            "right": null,
            "top": null,
            "visibility": null,
            "width": null
          }
        },
        "8fd03eaeced643cc91188123ea8850d7": {
          "model_module": "@jupyter-widgets/controls",
          "model_name": "DescriptionStyleModel",
          "model_module_version": "1.5.0",
          "state": {
            "_model_module": "@jupyter-widgets/controls",
            "_model_module_version": "1.5.0",
            "_model_name": "DescriptionStyleModel",
            "_view_count": null,
            "_view_module": "@jupyter-widgets/base",
            "_view_module_version": "1.2.0",
            "_view_name": "StyleView",
            "description_width": ""
          }
        }
      }
    }
  },
  "nbformat": 4,
  "nbformat_minor": 0
}